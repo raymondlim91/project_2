{
 "cells": [
  {
   "cell_type": "markdown",
   "id": "6ebf983c-8c76-4b53-a5ea-aed051b44117",
   "metadata": {},
   "source": [
    "# Project 2: Predicting sales prices with the Ames,Iowa Housing dataset"
   ]
  },
  {
   "cell_type": "markdown",
   "id": "085b168e-a991-4215-adbe-a87b2d3f5aff",
   "metadata": {},
   "source": [
    "## 1. Modeling"
   ]
  },
  {
   "cell_type": "code",
   "execution_count": 1,
   "id": "9e66d75b-f979-4bab-ba09-db6d2ced3861",
   "metadata": {},
   "outputs": [],
   "source": [
    "# Import Libraries\n",
    "\n",
    "import numpy as np\n",
    "import pandas as pd\n",
    "import matplotlib.pyplot as plt\n",
    "import seaborn as sns\n",
    "\n",
    "from sklearn import metrics\n",
    "from sklearn.preprocessing import StandardScaler\n",
    "from sklearn.model_selection import train_test_split, GridSearchCV, cross_val_score, cross_val_predict\n",
    "from sklearn.linear_model import Ridge, RidgeCV, Lasso, LassoCV, LinearRegression\n",
    "from sklearn.pipeline import Pipeline"
   ]
  },
  {
   "cell_type": "code",
   "execution_count": 2,
   "id": "152c34e9-ff39-4dbb-a730-586d03341e7d",
   "metadata": {},
   "outputs": [
    {
     "name": "stdout",
     "output_type": "stream",
     "text": [
      "(2049, 270)\n"
     ]
    },
    {
     "data": {
      "text/html": [
       "<div>\n",
       "<style scoped>\n",
       "    .dataframe tbody tr th:only-of-type {\n",
       "        vertical-align: middle;\n",
       "    }\n",
       "\n",
       "    .dataframe tbody tr th {\n",
       "        vertical-align: top;\n",
       "    }\n",
       "\n",
       "    .dataframe thead th {\n",
       "        text-align: right;\n",
       "    }\n",
       "</style>\n",
       "<table border=\"1\" class=\"dataframe\">\n",
       "  <thead>\n",
       "    <tr style=\"text-align: right;\">\n",
       "      <th></th>\n",
       "      <th>Lot Frontage</th>\n",
       "      <th>Lot Area</th>\n",
       "      <th>Mas Vnr Area</th>\n",
       "      <th>Bsmt Unf SF</th>\n",
       "      <th>Low Qual Fin SF</th>\n",
       "      <th>Gr Liv Area</th>\n",
       "      <th>TotRms AbvGrd</th>\n",
       "      <th>Fireplaces</th>\n",
       "      <th>Garage Cars</th>\n",
       "      <th>Garage Area</th>\n",
       "      <th>...</th>\n",
       "      <th>242</th>\n",
       "      <th>243</th>\n",
       "      <th>244</th>\n",
       "      <th>245</th>\n",
       "      <th>246</th>\n",
       "      <th>247</th>\n",
       "      <th>248</th>\n",
       "      <th>249</th>\n",
       "      <th>250</th>\n",
       "      <th>251</th>\n",
       "    </tr>\n",
       "  </thead>\n",
       "  <tbody>\n",
       "    <tr>\n",
       "      <th>0</th>\n",
       "      <td>73.339258</td>\n",
       "      <td>13517</td>\n",
       "      <td>289.0</td>\n",
       "      <td>192.0</td>\n",
       "      <td>0</td>\n",
       "      <td>1479</td>\n",
       "      <td>6</td>\n",
       "      <td>0</td>\n",
       "      <td>2.0</td>\n",
       "      <td>475.0</td>\n",
       "      <td>...</td>\n",
       "      <td>0.0</td>\n",
       "      <td>0.0</td>\n",
       "      <td>0.0</td>\n",
       "      <td>0.0</td>\n",
       "      <td>0.0</td>\n",
       "      <td>0.0</td>\n",
       "      <td>0.0</td>\n",
       "      <td>0.0</td>\n",
       "      <td>1.0</td>\n",
       "      <td>0.0</td>\n",
       "    </tr>\n",
       "    <tr>\n",
       "      <th>1</th>\n",
       "      <td>43.000000</td>\n",
       "      <td>11492</td>\n",
       "      <td>132.0</td>\n",
       "      <td>276.0</td>\n",
       "      <td>0</td>\n",
       "      <td>2122</td>\n",
       "      <td>8</td>\n",
       "      <td>1</td>\n",
       "      <td>2.0</td>\n",
       "      <td>559.0</td>\n",
       "      <td>...</td>\n",
       "      <td>0.0</td>\n",
       "      <td>0.0</td>\n",
       "      <td>0.0</td>\n",
       "      <td>0.0</td>\n",
       "      <td>0.0</td>\n",
       "      <td>0.0</td>\n",
       "      <td>0.0</td>\n",
       "      <td>0.0</td>\n",
       "      <td>1.0</td>\n",
       "      <td>0.0</td>\n",
       "    </tr>\n",
       "    <tr>\n",
       "      <th>2</th>\n",
       "      <td>68.000000</td>\n",
       "      <td>7922</td>\n",
       "      <td>0.0</td>\n",
       "      <td>326.0</td>\n",
       "      <td>0</td>\n",
       "      <td>1057</td>\n",
       "      <td>5</td>\n",
       "      <td>0</td>\n",
       "      <td>1.0</td>\n",
       "      <td>246.0</td>\n",
       "      <td>...</td>\n",
       "      <td>0.0</td>\n",
       "      <td>0.0</td>\n",
       "      <td>0.0</td>\n",
       "      <td>0.0</td>\n",
       "      <td>0.0</td>\n",
       "      <td>0.0</td>\n",
       "      <td>0.0</td>\n",
       "      <td>0.0</td>\n",
       "      <td>1.0</td>\n",
       "      <td>0.0</td>\n",
       "    </tr>\n",
       "    <tr>\n",
       "      <th>3</th>\n",
       "      <td>73.000000</td>\n",
       "      <td>9802</td>\n",
       "      <td>0.0</td>\n",
       "      <td>384.0</td>\n",
       "      <td>0</td>\n",
       "      <td>1444</td>\n",
       "      <td>7</td>\n",
       "      <td>0</td>\n",
       "      <td>2.0</td>\n",
       "      <td>400.0</td>\n",
       "      <td>...</td>\n",
       "      <td>0.0</td>\n",
       "      <td>0.0</td>\n",
       "      <td>0.0</td>\n",
       "      <td>0.0</td>\n",
       "      <td>0.0</td>\n",
       "      <td>0.0</td>\n",
       "      <td>0.0</td>\n",
       "      <td>0.0</td>\n",
       "      <td>1.0</td>\n",
       "      <td>0.0</td>\n",
       "    </tr>\n",
       "    <tr>\n",
       "      <th>4</th>\n",
       "      <td>82.000000</td>\n",
       "      <td>14235</td>\n",
       "      <td>0.0</td>\n",
       "      <td>676.0</td>\n",
       "      <td>0</td>\n",
       "      <td>1445</td>\n",
       "      <td>6</td>\n",
       "      <td>0</td>\n",
       "      <td>2.0</td>\n",
       "      <td>484.0</td>\n",
       "      <td>...</td>\n",
       "      <td>0.0</td>\n",
       "      <td>0.0</td>\n",
       "      <td>0.0</td>\n",
       "      <td>0.0</td>\n",
       "      <td>0.0</td>\n",
       "      <td>0.0</td>\n",
       "      <td>0.0</td>\n",
       "      <td>0.0</td>\n",
       "      <td>1.0</td>\n",
       "      <td>0.0</td>\n",
       "    </tr>\n",
       "  </tbody>\n",
       "</table>\n",
       "<p>5 rows × 270 columns</p>\n",
       "</div>"
      ],
      "text/plain": [
       "   Lot Frontage  Lot Area  Mas Vnr Area  Bsmt Unf SF  Low Qual Fin SF  \\\n",
       "0     73.339258     13517         289.0        192.0                0   \n",
       "1     43.000000     11492         132.0        276.0                0   \n",
       "2     68.000000      7922           0.0        326.0                0   \n",
       "3     73.000000      9802           0.0        384.0                0   \n",
       "4     82.000000     14235           0.0        676.0                0   \n",
       "\n",
       "   Gr Liv Area  TotRms AbvGrd  Fireplaces  Garage Cars  Garage Area  ...  242  \\\n",
       "0         1479              6           0          2.0        475.0  ...  0.0   \n",
       "1         2122              8           1          2.0        559.0  ...  0.0   \n",
       "2         1057              5           0          1.0        246.0  ...  0.0   \n",
       "3         1444              7           0          2.0        400.0  ...  0.0   \n",
       "4         1445              6           0          2.0        484.0  ...  0.0   \n",
       "\n",
       "   243  244  245  246  247  248  249  250  251  \n",
       "0  0.0  0.0  0.0  0.0  0.0  0.0  0.0  1.0  0.0  \n",
       "1  0.0  0.0  0.0  0.0  0.0  0.0  0.0  1.0  0.0  \n",
       "2  0.0  0.0  0.0  0.0  0.0  0.0  0.0  1.0  0.0  \n",
       "3  0.0  0.0  0.0  0.0  0.0  0.0  0.0  1.0  0.0  \n",
       "4  0.0  0.0  0.0  0.0  0.0  0.0  0.0  1.0  0.0  \n",
       "\n",
       "[5 rows x 270 columns]"
      ]
     },
     "execution_count": 2,
     "metadata": {},
     "output_type": "execute_result"
    }
   ],
   "source": [
    "train_processed = pd.read_csv(\"../datasets/train_processed.csv\") # read train_processed csv file\n",
    "\n",
    "print(train_processed.shape)\n",
    "train_processed.head()"
   ]
  },
  {
   "cell_type": "code",
   "execution_count": 3,
   "id": "38aa7bf4-87e6-4a65-882a-d66ce26a729b",
   "metadata": {},
   "outputs": [
    {
     "name": "stdout",
     "output_type": "stream",
     "text": [
      "(878, 268)\n"
     ]
    },
    {
     "data": {
      "text/html": [
       "<div>\n",
       "<style scoped>\n",
       "    .dataframe tbody tr th:only-of-type {\n",
       "        vertical-align: middle;\n",
       "    }\n",
       "\n",
       "    .dataframe tbody tr th {\n",
       "        vertical-align: top;\n",
       "    }\n",
       "\n",
       "    .dataframe thead th {\n",
       "        text-align: right;\n",
       "    }\n",
       "</style>\n",
       "<table border=\"1\" class=\"dataframe\">\n",
       "  <thead>\n",
       "    <tr style=\"text-align: right;\">\n",
       "      <th></th>\n",
       "      <th>Lot Frontage</th>\n",
       "      <th>Lot Area</th>\n",
       "      <th>Mas Vnr Area</th>\n",
       "      <th>Bsmt Unf SF</th>\n",
       "      <th>Low Qual Fin SF</th>\n",
       "      <th>Gr Liv Area</th>\n",
       "      <th>TotRms AbvGrd</th>\n",
       "      <th>Fireplaces</th>\n",
       "      <th>Garage Cars</th>\n",
       "      <th>Garage Area</th>\n",
       "      <th>...</th>\n",
       "      <th>242</th>\n",
       "      <th>243</th>\n",
       "      <th>244</th>\n",
       "      <th>245</th>\n",
       "      <th>246</th>\n",
       "      <th>247</th>\n",
       "      <th>248</th>\n",
       "      <th>249</th>\n",
       "      <th>250</th>\n",
       "      <th>251</th>\n",
       "    </tr>\n",
       "  </thead>\n",
       "  <tbody>\n",
       "    <tr>\n",
       "      <th>0</th>\n",
       "      <td>69.000000</td>\n",
       "      <td>9142</td>\n",
       "      <td>0.0</td>\n",
       "      <td>1020</td>\n",
       "      <td>0</td>\n",
       "      <td>1928</td>\n",
       "      <td>9</td>\n",
       "      <td>0</td>\n",
       "      <td>1</td>\n",
       "      <td>440</td>\n",
       "      <td>...</td>\n",
       "      <td>0.0</td>\n",
       "      <td>0.0</td>\n",
       "      <td>0.0</td>\n",
       "      <td>0.0</td>\n",
       "      <td>0.0</td>\n",
       "      <td>0.0</td>\n",
       "      <td>0.0</td>\n",
       "      <td>0.0</td>\n",
       "      <td>1.0</td>\n",
       "      <td>0.0</td>\n",
       "    </tr>\n",
       "    <tr>\n",
       "      <th>1</th>\n",
       "      <td>88.032863</td>\n",
       "      <td>9662</td>\n",
       "      <td>0.0</td>\n",
       "      <td>1967</td>\n",
       "      <td>0</td>\n",
       "      <td>1967</td>\n",
       "      <td>10</td>\n",
       "      <td>0</td>\n",
       "      <td>2</td>\n",
       "      <td>580</td>\n",
       "      <td>...</td>\n",
       "      <td>0.0</td>\n",
       "      <td>0.0</td>\n",
       "      <td>0.0</td>\n",
       "      <td>0.0</td>\n",
       "      <td>0.0</td>\n",
       "      <td>0.0</td>\n",
       "      <td>0.0</td>\n",
       "      <td>0.0</td>\n",
       "      <td>1.0</td>\n",
       "      <td>0.0</td>\n",
       "    </tr>\n",
       "    <tr>\n",
       "      <th>2</th>\n",
       "      <td>58.000000</td>\n",
       "      <td>17104</td>\n",
       "      <td>0.0</td>\n",
       "      <td>100</td>\n",
       "      <td>0</td>\n",
       "      <td>1496</td>\n",
       "      <td>7</td>\n",
       "      <td>1</td>\n",
       "      <td>2</td>\n",
       "      <td>426</td>\n",
       "      <td>...</td>\n",
       "      <td>0.0</td>\n",
       "      <td>0.0</td>\n",
       "      <td>0.0</td>\n",
       "      <td>0.0</td>\n",
       "      <td>0.0</td>\n",
       "      <td>1.0</td>\n",
       "      <td>0.0</td>\n",
       "      <td>0.0</td>\n",
       "      <td>0.0</td>\n",
       "      <td>0.0</td>\n",
       "    </tr>\n",
       "    <tr>\n",
       "      <th>3</th>\n",
       "      <td>60.000000</td>\n",
       "      <td>8520</td>\n",
       "      <td>0.0</td>\n",
       "      <td>968</td>\n",
       "      <td>0</td>\n",
       "      <td>968</td>\n",
       "      <td>5</td>\n",
       "      <td>0</td>\n",
       "      <td>2</td>\n",
       "      <td>480</td>\n",
       "      <td>...</td>\n",
       "      <td>0.0</td>\n",
       "      <td>0.0</td>\n",
       "      <td>0.0</td>\n",
       "      <td>0.0</td>\n",
       "      <td>0.0</td>\n",
       "      <td>0.0</td>\n",
       "      <td>0.0</td>\n",
       "      <td>0.0</td>\n",
       "      <td>1.0</td>\n",
       "      <td>0.0</td>\n",
       "    </tr>\n",
       "    <tr>\n",
       "      <th>4</th>\n",
       "      <td>76.523057</td>\n",
       "      <td>9500</td>\n",
       "      <td>247.0</td>\n",
       "      <td>785</td>\n",
       "      <td>0</td>\n",
       "      <td>1394</td>\n",
       "      <td>6</td>\n",
       "      <td>2</td>\n",
       "      <td>2</td>\n",
       "      <td>514</td>\n",
       "      <td>...</td>\n",
       "      <td>0.0</td>\n",
       "      <td>0.0</td>\n",
       "      <td>0.0</td>\n",
       "      <td>0.0</td>\n",
       "      <td>0.0</td>\n",
       "      <td>0.0</td>\n",
       "      <td>0.0</td>\n",
       "      <td>0.0</td>\n",
       "      <td>1.0</td>\n",
       "      <td>0.0</td>\n",
       "    </tr>\n",
       "  </tbody>\n",
       "</table>\n",
       "<p>5 rows × 268 columns</p>\n",
       "</div>"
      ],
      "text/plain": [
       "   Lot Frontage  Lot Area  Mas Vnr Area  Bsmt Unf SF  Low Qual Fin SF  \\\n",
       "0     69.000000      9142           0.0         1020                0   \n",
       "1     88.032863      9662           0.0         1967                0   \n",
       "2     58.000000     17104           0.0          100                0   \n",
       "3     60.000000      8520           0.0          968                0   \n",
       "4     76.523057      9500         247.0          785                0   \n",
       "\n",
       "   Gr Liv Area  TotRms AbvGrd  Fireplaces  Garage Cars  Garage Area  ...  242  \\\n",
       "0         1928              9           0            1          440  ...  0.0   \n",
       "1         1967             10           0            2          580  ...  0.0   \n",
       "2         1496              7           1            2          426  ...  0.0   \n",
       "3          968              5           0            2          480  ...  0.0   \n",
       "4         1394              6           2            2          514  ...  0.0   \n",
       "\n",
       "   243  244  245  246  247  248  249  250  251  \n",
       "0  0.0  0.0  0.0  0.0  0.0  0.0  0.0  1.0  0.0  \n",
       "1  0.0  0.0  0.0  0.0  0.0  0.0  0.0  1.0  0.0  \n",
       "2  0.0  0.0  0.0  0.0  1.0  0.0  0.0  0.0  0.0  \n",
       "3  0.0  0.0  0.0  0.0  0.0  0.0  0.0  1.0  0.0  \n",
       "4  0.0  0.0  0.0  0.0  0.0  0.0  0.0  1.0  0.0  \n",
       "\n",
       "[5 rows x 268 columns]"
      ]
     },
     "execution_count": 3,
     "metadata": {},
     "output_type": "execute_result"
    }
   ],
   "source": [
    "test = pd.read_csv(\"../datasets/test.csv\") # read test csv file for 'Id' columns\n",
    "\n",
    "test_processed = pd.read_csv(\"../datasets/test_processed.csv\") # read test_processed csv file\n",
    "\n",
    "print(test_processed.shape)\n",
    "test_processed.head()"
   ]
  },
  {
   "cell_type": "code",
   "execution_count": 4,
   "id": "4f873800-acd6-440a-9995-a1a47473f076",
   "metadata": {},
   "outputs": [],
   "source": [
    "# Declare X and y variable \n",
    "\n",
    "X = train_processed.drop(['SalePrice','log_price'], axis = 1)\n",
    "y = train_processed['log_price']"
   ]
  },
  {
   "cell_type": "markdown",
   "id": "b50d5a47-0efd-4344-8c20-78e58150056e",
   "metadata": {},
   "source": [
    "### Perform Train test split"
   ]
  },
  {
   "cell_type": "code",
   "execution_count": 5,
   "id": "8a00831e-7457-408f-901f-e3fce63cbe99",
   "metadata": {},
   "outputs": [],
   "source": [
    "# Create train test split at 80% train, 20% test\n",
    "\n",
    "# Perform train test split\n",
    "X_train, X_test, y_train, y_test = train_test_split(X, y,test_size = 0.2, random_state = 42 )"
   ]
  },
  {
   "cell_type": "markdown",
   "id": "69c8ef90-c64a-4234-b5e0-8b09a2c1274b",
   "metadata": {},
   "source": [
    "### Establish baseline score"
   ]
  },
  {
   "cell_type": "markdown",
   "id": "8c4f9060-cbaa-4725-983b-9f84e3658a1d",
   "metadata": {},
   "source": [
    "We need to calculate baseline accuracy in order to tell if our model is outperforming the null model (predicting the majority class)."
   ]
  },
  {
   "cell_type": "code",
   "execution_count": 6,
   "id": "d2ddc811-8ae6-45b7-98cc-27bed3cfa3c6",
   "metadata": {},
   "outputs": [
    {
     "data": {
      "text/plain": [
       "178979.70975609755"
      ]
     },
     "execution_count": 6,
     "metadata": {},
     "output_type": "execute_result"
    }
   ],
   "source": [
    "# calculate the mean of y_test as baseline score\n",
    "baseline = np.exp(y_test).mean()\n",
    "baseline"
   ]
  },
  {
   "cell_type": "markdown",
   "id": "09d46ad2-9898-4ae3-a44e-bc0c6f69843e",
   "metadata": {},
   "source": [
    "## 2.1 Ridge regression"
   ]
  },
  {
   "cell_type": "code",
   "execution_count": 7,
   "id": "94af2038-a333-4eca-b9d4-209959deafc1",
   "metadata": {},
   "outputs": [],
   "source": [
    "# Instantiate StandardScaler\n",
    "ss = StandardScaler()\n",
    "\n",
    "# Fit and transform train.\n",
    "X_train_sc = ss.fit_transform(X_train)\n",
    "\n",
    "# Transform test.\n",
    "X_test_sc = ss.transform(X_test)"
   ]
  },
  {
   "cell_type": "markdown",
   "id": "db2c9fad-62bc-4688-82b2-dae765e34f47",
   "metadata": {},
   "source": [
    "### 2.2 Fit Ridge Regression with deafult parameters."
   ]
  },
  {
   "cell_type": "code",
   "execution_count": 8,
   "id": "31bd45db-c19e-49cb-b9b4-3604bf4004d8",
   "metadata": {},
   "outputs": [
    {
     "data": {
      "text/plain": [
       "Ridge()"
      ]
     },
     "execution_count": 8,
     "metadata": {},
     "output_type": "execute_result"
    }
   ],
   "source": [
    "# Instantiate.\n",
    "ridge = Ridge()\n",
    "\n",
    "# Fit on train.\n",
    "ridge.fit(X_train_sc, y_train)"
   ]
  },
  {
   "cell_type": "code",
   "execution_count": 9,
   "id": "9e0c8b5b-40c6-4474-b7e6-ae5383bc2a15",
   "metadata": {},
   "outputs": [
    {
     "data": {
      "text/plain": [
       "0.8818707915316527"
      ]
     },
     "execution_count": 9,
     "metadata": {},
     "output_type": "execute_result"
    }
   ],
   "source": [
    "# Evaluate (predict and return 'accuracy' score).\n",
    "ridge.score(X_test_sc, y_test)"
   ]
  },
  {
   "cell_type": "markdown",
   "id": "2376b49b-8f0e-47a9-9d9b-f3062c7cca00",
   "metadata": {},
   "source": [
    "The accuracy of the model is 88.7%"
   ]
  },
  {
   "cell_type": "markdown",
   "id": "a4e84cc9-b2c1-4f61-a013-41a0afc71c86",
   "metadata": {},
   "source": [
    "### 2.3 Fine Tune the model by searching the best hyperparameters"
   ]
  },
  {
   "cell_type": "code",
   "execution_count": 10,
   "id": "24c43253-41c2-40cb-be62-46cae6899008",
   "metadata": {},
   "outputs": [],
   "source": [
    "ss_2 = StandardScaler()\n",
    "ridge_2 = Ridge()\n",
    "\n",
    "## create pipeline for ridge regression\n",
    "ridge_pipeline = Pipeline([\n",
    "                ('ss', ss_2),\n",
    "                ('ridge', ridge_2)\n",
    "])\n"
   ]
  },
  {
   "cell_type": "code",
   "execution_count": 11,
   "id": "1e9a25a1-ea4f-43ef-bdfa-07bac5a5f7b2",
   "metadata": {},
   "outputs": [
    {
     "data": {
      "text/plain": [
       "{'memory': None,\n",
       " 'steps': [('ss', StandardScaler()), ('ridge', Ridge())],\n",
       " 'verbose': False,\n",
       " 'ss': StandardScaler(),\n",
       " 'ridge': Ridge(),\n",
       " 'ss__copy': True,\n",
       " 'ss__with_mean': True,\n",
       " 'ss__with_std': True,\n",
       " 'ridge__alpha': 1.0,\n",
       " 'ridge__copy_X': True,\n",
       " 'ridge__fit_intercept': True,\n",
       " 'ridge__max_iter': None,\n",
       " 'ridge__normalize': False,\n",
       " 'ridge__random_state': None,\n",
       " 'ridge__solver': 'auto',\n",
       " 'ridge__tol': 0.001}"
      ]
     },
     "execution_count": 11,
     "metadata": {},
     "output_type": "execute_result"
    }
   ],
   "source": [
    "ridge_pipeline.get_params()"
   ]
  },
  {
   "cell_type": "code",
   "execution_count": 12,
   "id": "4ab65db2-6ea5-4b6d-8e64-d3a101286077",
   "metadata": {},
   "outputs": [],
   "source": [
    "# Create dictionary of hyperparameters (param_grid).\n",
    "ridge_params = { 'ss__with_mean': [True, False], \n",
    "                 'ss__with_std': [True, False],\n",
    "                'ridge__alpha' : np.arange(0, 3, 0.2),\n",
    "                'ridge__normalize': [True,False]\n",
    "}"
   ]
  },
  {
   "cell_type": "code",
   "execution_count": 13,
   "id": "a79d9d98-41a0-4c91-8c8b-22a296c948e2",
   "metadata": {},
   "outputs": [],
   "source": [
    "# Instantiate GridSearchCV object.\n",
    "ridge_gridsearch = GridSearchCV(ridge_pipeline,\n",
    "                               ridge_params,\n",
    "                               cv=5,\n",
    "                               verbose=1, \n",
    "                               )"
   ]
  },
  {
   "cell_type": "code",
   "execution_count": 14,
   "id": "e77b3eac-6714-4969-88bb-4bd001aa92c6",
   "metadata": {},
   "outputs": [
    {
     "name": "stdout",
     "output_type": "stream",
     "text": [
      "Fitting 5 folds for each of 120 candidates, totalling 600 fits\n"
     ]
    },
    {
     "data": {
      "text/plain": [
       "GridSearchCV(cv=5,\n",
       "             estimator=Pipeline(steps=[('ss', StandardScaler()),\n",
       "                                       ('ridge', Ridge())]),\n",
       "             param_grid={'ridge__alpha': array([0. , 0.2, 0.4, 0.6, 0.8, 1. , 1.2, 1.4, 1.6, 1.8, 2. , 2.2, 2.4,\n",
       "       2.6, 2.8]),\n",
       "                         'ridge__normalize': [True, False],\n",
       "                         'ss__with_mean': [True, False],\n",
       "                         'ss__with_std': [True, False]},\n",
       "             verbose=1)"
      ]
     },
     "execution_count": 14,
     "metadata": {},
     "output_type": "execute_result"
    }
   ],
   "source": [
    "ridge_gridsearch.fit(X_train, y_train) # Fit the GridSearchCV object to the data"
   ]
  },
  {
   "cell_type": "code",
   "execution_count": 15,
   "id": "d00c0a39-6db4-48ab-a056-0886f6918272",
   "metadata": {},
   "outputs": [
    {
     "data": {
      "text/plain": [
       "{'ridge__alpha': 2.6,\n",
       " 'ridge__normalize': False,\n",
       " 'ss__with_mean': True,\n",
       " 'ss__with_std': False}"
      ]
     },
     "execution_count": 15,
     "metadata": {},
     "output_type": "execute_result"
    }
   ],
   "source": [
    "ridge_gridsearch.best_params_"
   ]
  },
  {
   "cell_type": "code",
   "execution_count": 16,
   "id": "a5b6e22b-d11e-4ffd-b1bd-db10b253c696",
   "metadata": {},
   "outputs": [],
   "source": [
    "ss = StandardScaler(with_std=False, with_mean=True)\n",
    "ridge = Ridge(alpha = 2.6, normalize = False)"
   ]
  },
  {
   "cell_type": "code",
   "execution_count": 17,
   "id": "ff8d0852-8d2d-4e07-88e0-07716eb0bc16",
   "metadata": {},
   "outputs": [],
   "source": [
    "ridge_model_pipe = Pipeline([\n",
    "    ('ss', ss),\n",
    "    ('ridge', ridge)\n",
    "])\n",
    "\n",
    "ridge_model = ridge_model_pipe.named_steps['ridge']"
   ]
  },
  {
   "cell_type": "code",
   "execution_count": 18,
   "id": "c371666d-c6a7-4cd3-9333-81a1562bc585",
   "metadata": {},
   "outputs": [
    {
     "data": {
      "text/plain": [
       "Pipeline(steps=[('ss', StandardScaler(with_std=False)),\n",
       "                ('ridge', Ridge(alpha=2.6))])"
      ]
     },
     "execution_count": 18,
     "metadata": {},
     "output_type": "execute_result"
    }
   ],
   "source": [
    "ridge_model_pipe.fit(X_train, y_train)"
   ]
  },
  {
   "cell_type": "markdown",
   "id": "eae37f15-0d69-4f36-834d-e7dc80a28404",
   "metadata": {},
   "source": [
    "### 2.4 Ridge Model evaluation"
   ]
  },
  {
   "cell_type": "code",
   "execution_count": 19,
   "id": "3d320a4e-3b83-485a-9102-0969d0c84e44",
   "metadata": {},
   "outputs": [
    {
     "name": "stdout",
     "output_type": "stream",
     "text": [
      "Ridge model score on train dataset = 0.9456636476828666\n"
     ]
    }
   ],
   "source": [
    "ridge_train_score = ridge_model_pipe.score(X_train, y_train)\n",
    "print(f'Ridge model score on train dataset = {ridge_train_score}')"
   ]
  },
  {
   "cell_type": "code",
   "execution_count": 20,
   "id": "02cc19b7-04ba-4a68-977c-98a8ecea5d41",
   "metadata": {},
   "outputs": [
    {
     "name": "stdout",
     "output_type": "stream",
     "text": [
      "Ridge model score on test dataset = 0.88951495575985\n"
     ]
    }
   ],
   "source": [
    "ridge_test_score = ridge_model_pipe.score(X_test, y_test)\n",
    "print(f'Ridge model score on test dataset = {ridge_test_score}')"
   ]
  },
  {
   "cell_type": "markdown",
   "id": "4b6fdffe-6e33-4d22-85cb-fe4b2f7b8060",
   "metadata": {},
   "source": [
    "Slight improve on the model score without tuning. "
   ]
  },
  {
   "cell_type": "code",
   "execution_count": 21,
   "id": "63867d1d-154c-4c0a-91eb-97168ba72873",
   "metadata": {},
   "outputs": [],
   "source": [
    "y_pred_ridge = ridge_model_pipe.predict(X_test) # predict X_test dateset"
   ]
  },
  {
   "cell_type": "code",
   "execution_count": 22,
   "id": "3cd9f3c7-dd3d-4b7d-94e1-30edaa44ddac",
   "metadata": {},
   "outputs": [
    {
     "data": {
      "text/plain": [
       "21367.014118660223"
      ]
     },
     "execution_count": 22,
     "metadata": {},
     "output_type": "execute_result"
    }
   ],
   "source": [
    "ridge_rmse = metrics.mean_squared_error(np.exp(y_test), np.exp(y_pred_ridge),squared=False)\n",
    "ridge_rmse"
   ]
  },
  {
   "cell_type": "code",
   "execution_count": 23,
   "id": "59c839ce-ec71-4da3-b969-a8d3c99dd430",
   "metadata": {},
   "outputs": [],
   "source": [
    "# predict kaggle test dataset\n",
    "y_test_kaggle_ridge = np.exp(ridge_model_pipe.predict(test_processed))"
   ]
  },
  {
   "cell_type": "markdown",
   "id": "25867a1d-b491-4a02-8572-f915b4b51fe3",
   "metadata": {},
   "source": [
    "###  2.5 Ridge Model Inferential Visualizations"
   ]
  },
  {
   "cell_type": "code",
   "execution_count": 24,
   "id": "d9b147b8-8698-42ab-9209-7eb0e9f6ef2a",
   "metadata": {},
   "outputs": [
    {
     "data": {
      "image/png": "[encoded data removed]",
      "text/plain": [
       "<Figure size 504x432 with 1 Axes>"
      ]
     },
     "metadata": {
      "needs_background": "light"
     },
     "output_type": "display_data"
    }
   ],
   "source": [
    "fig = plt.figure(figsize = (7,6))\n",
    "sns.scatterplot(x = np.exp(y_test), y= np.exp(y_pred_ridge))\n",
    "plt.title('Ridge regression y test vs y predict on Sale price', fontsize=20)\n",
    "plt.xlabel('Sale price',fontsize=15)\n",
    "plt.ylabel('Predicted sale price', fontsize=15)\n",
    "plt.show()"
   ]
  },
  {
   "cell_type": "code",
   "execution_count": 25,
   "id": "2e4ab698-f589-4b0c-91ed-5898daee7395",
   "metadata": {
    "tags": []
   },
   "outputs": [
    {
     "name": "stdout",
     "output_type": "stream",
     "text": [
      "Ridge model R2 score on predicted date = 0.88951495575985\n"
     ]
    }
   ],
   "source": [
    "ridge_r2_score = metrics.r2_score(y_test, y_pred_ridge)\n",
    "print(f'Ridge model R2 score on predicted date = {ridge_r2_score}')\n",
    "\n",
    "## The model explains 88.95 % of the variability of the response data around its mean."
   ]
  },
  {
   "cell_type": "code",
   "execution_count": 26,
   "id": "23ce19c2-a24e-4837-87fd-2d8cabbd5803",
   "metadata": {},
   "outputs": [
    {
     "name": "stdout",
     "output_type": "stream",
     "text": [
      "180180.12324550597\n",
      "0.67069808697548\n"
     ]
    }
   ],
   "source": [
    "ridge_y_pred_mean = np.exp(y_pred_ridge).mean()\n",
    "\n",
    "diff = ridge_y_pred_mean - baseline\n",
    "\n",
    "print(ridge_y_pred_mean)\n",
    "print(diff/baseline*100)"
   ]
  },
  {
   "cell_type": "markdown",
   "id": "c7027de2-e7bb-4ee3-994f-ff1f1530312b",
   "metadata": {},
   "source": [
    "The ridge model predcited mean price is $180180, which is 0.67% more than baseline score. The ridge model is accurate."
   ]
  },
  {
   "cell_type": "code",
   "execution_count": 27,
   "id": "3376ee08-c4b5-4693-8ca5-29bdc669bb6e",
   "metadata": {},
   "outputs": [
    {
     "data": {
      "image/png": "[encoded data removed]",
      "text/plain": [
       "<Figure size 360x360 with 1 Axes>"
      ]
     },
     "metadata": {
      "needs_background": "light"
     },
     "output_type": "display_data"
    }
   ],
   "source": [
    "## Residual plot\n",
    "\n",
    "residuals = y_test - y_pred_ridge\n",
    "\n",
    "sns.displot(residuals)\n",
    "plt.title('Residuals PDF', size = 18)\n",
    "plt.xlabel('Residuals',fontsize=15)\n",
    "plt.ylabel('Count', fontsize=15)\n",
    "plt.show()"
   ]
  },
  {
   "cell_type": "markdown",
   "id": "01a850c0-cf1e-47d4-95bc-9e84dc9799fd",
   "metadata": {},
   "source": [
    "The residuals of the model seems to be normally distrubted. There is some residual at the negative side of the log price, which means there is some estimation where the model predicted much larger housing price value compared to target value."
   ]
  },
  {
   "cell_type": "code",
   "execution_count": 28,
   "id": "4ed73edd-b525-41d8-af2e-b8ef8a541551",
   "metadata": {},
   "outputs": [
    {
     "data": {
      "image/png": "[encoded data removed]",
      "text/plain": [
       "<Figure size 576x576 with 1 Axes>"
      ]
     },
     "metadata": {
      "needs_background": "light"
     },
     "output_type": "display_data"
    }
   ],
   "source": [
    "## Equal Variance\n",
    "plt.figure(figsize=(8,8))\n",
    "sns.scatterplot(x= y_pred_ridge, y=residuals)\n",
    "plt.title('Ridge Equal Variance', size = 18)\n",
    "plt.xlabel('Predicted values',fontsize=15)\n",
    "plt.ylabel('Residuals', fontsize=15)\n",
    "plt.show()"
   ]
  },
  {
   "cell_type": "markdown",
   "id": "1261a84b-24b1-4396-ace2-ca28eaca17d1",
   "metadata": {},
   "source": [
    "The distribution of residual plots are not fully randomness.  The residual seems to be more concentrated between 11.5 to 12.5 of predicted value."
   ]
  },
  {
   "cell_type": "markdown",
   "id": "a32dac8c-02fc-4be9-995c-514c1d554a0e",
   "metadata": {},
   "source": [
    "#### 2.6 Determine the weights and bias"
   ]
  },
  {
   "cell_type": "code",
   "execution_count": 29,
   "id": "28aaacc7-9ba7-4287-b614-41b9fed1c4aa",
   "metadata": {},
   "outputs": [
    {
     "data": {
      "text/plain": [
       "array([ 3.42903507e-04,  4.18085621e-06,  3.35565260e-05, -6.42673272e-05,\n",
       "        7.67550768e-05,  1.00729590e-04,  2.02776165e-03,  1.81048308e-02,\n",
       "        2.35795551e-02,  3.06386484e-05,  5.91636064e-05, -3.30166741e-03,\n",
       "        8.58021427e-04,  1.50043899e-04,  2.46268436e-02,  1.46066535e-04,\n",
       "       -2.07159077e-02,  3.72916299e-02,  4.40489755e-02,  2.98961562e-02,\n",
       "       -3.48209598e-02,  5.34957984e-02,  6.14712855e-02, -2.20798591e-02,\n",
       "        1.04816087e-02, -3.63156772e-02, -2.79844436e-03,  0.00000000e+00,\n",
       "       -8.05300735e-02, -3.95935752e-02, -1.39594240e-02, -1.48192227e-01,\n",
       "        1.10393477e-01,  1.70425658e-02,  8.21961555e-02,  9.46646265e-02,\n",
       "        6.15225298e-02,  7.38010239e-02,  4.32442523e-03, -2.67915351e-02,\n",
       "        1.27280062e-03,  2.43279627e-02, -3.83853080e-02,  3.47640258e-03,\n",
       "        0.00000000e+00,  1.70425658e-02,  1.93597100e-02, -1.70737041e-02,\n",
       "       -5.70235772e-02, -1.21003541e-03, -7.56716402e-03, -1.54810494e-02,\n",
       "        1.76406601e-02, -1.72554523e-02,  2.39731849e-02,  3.53717017e-02,\n",
       "       -1.64484913e-02,  6.46503287e-02, -4.93076075e-02, -2.09537434e-02,\n",
       "        2.85149722e-02,  1.45439102e-01, -2.23307152e-02, -1.93330018e-03,\n",
       "       -9.34790296e-02, -1.23333340e-02, -1.79308550e-02,  3.47342798e-02,\n",
       "       -2.47329792e-02, -2.63437794e-03,  4.49928433e-02, -4.13186520e-02,\n",
       "       -1.45739204e-02, -2.55738313e-02, -2.73536010e-02,  2.73910634e-02,\n",
       "        7.18887158e-02, -5.07895343e-03, -1.04416280e-02,  2.95731331e-02,\n",
       "        5.83261937e-02,  7.15698010e-02,  8.03084874e-02, -1.58920255e-02,\n",
       "        5.56714460e-03,  1.15572891e-02, -2.25036466e-02,  1.57852659e-02,\n",
       "        3.22452871e-02,  7.24889535e-02, -2.79286142e-02,  0.00000000e+00,\n",
       "       -1.97452001e-02,  6.35337562e-03,  8.21763024e-03, -3.63156772e-02,\n",
       "       -5.44356558e-02, -2.54790419e-02,  1.47219746e-02, -7.47127981e-03,\n",
       "        2.36894091e-02,  3.92536191e-02,  4.42940806e-03,  6.34211587e-03,\n",
       "        2.56845672e-02, -1.59328922e-01, -5.65939569e-02, -3.04610831e-02,\n",
       "        2.84618655e-02,  5.17465277e-02,  7.80936743e-02,  1.18837797e-01,\n",
       "        1.67177908e-01,  1.58028574e-01,  3.58454853e-02, -1.55168872e-01,\n",
       "       -4.02757284e-02,  5.48785994e-03,  4.08087055e-02,  7.07551339e-02,\n",
       "        9.46782155e-02,  1.25831912e-01,  2.42159151e-02, -2.80884576e-02,\n",
       "        2.95694493e-02, -8.35271035e-02, -2.67627775e-03, -5.31237673e-02,\n",
       "        3.49615549e-02,  0.00000000e+00,  0.00000000e+00, -2.62809465e-02,\n",
       "       -1.31597321e-02,  5.76028910e-02,  2.40973512e-02, -9.21795619e-02,\n",
       "        1.12615524e-01,  8.88819052e-03, -7.47467690e-03,  1.21448621e-02,\n",
       "        2.36208154e-02,  4.03217894e-02,  2.44215233e-02,  0.00000000e+00,\n",
       "       -3.06689471e-02,  6.18111556e-02,  5.04084530e-02,  1.05445897e-02,\n",
       "        3.64150884e-02,  5.00347540e-02, -4.04836582e-03, -3.89153908e-02,\n",
       "       -1.37717719e-03,  4.71606459e-02,  1.71905602e-02, -1.94935103e-02,\n",
       "        4.09222630e-03,  0.00000000e+00, -1.39489773e-03,  0.00000000e+00,\n",
       "       -8.69543034e-03,  1.54994365e-02, -1.61169759e-02,  1.89384960e-02,\n",
       "        2.84111610e-03,  3.06110376e-02,  0.00000000e+00,  3.23256762e-02,\n",
       "        4.61732226e-02, -1.03640430e-01, -3.43151151e-02, -5.97610290e-02,\n",
       "        3.81359705e-02,  3.51944010e-02, -2.02029071e-01,  4.96902973e-02,\n",
       "        4.21978421e-03,  1.60297998e-02, -4.32088305e-02,  3.11366125e-02,\n",
       "        2.49913318e-02, -2.62767414e-02, -2.65890287e-02, -1.34411230e-03,\n",
       "        2.52613234e-02, -2.24281149e-02, -1.30200570e-02,  1.41387414e-02,\n",
       "       -1.34411230e-03, -9.11393599e-03, -5.73536370e-03,  4.47788992e-02,\n",
       "       -1.18497964e-02, -1.21693339e-02, -3.50937620e-03, -1.01036442e-02,\n",
       "        1.26451114e-02, -2.31294700e-02, -1.34411230e-03, -1.05868303e-02,\n",
       "       -6.32650569e-03, -2.39796958e-02,  3.88525868e-02, -6.66346144e-03,\n",
       "       -2.31910592e-02, -4.02174171e-03,  1.11069963e-02,  7.39312486e-02,\n",
       "        7.60188359e-02, -1.54563187e-01,  8.09476725e-03, -3.48166451e-03,\n",
       "       -3.65934309e-02, -1.43939204e-02, -1.80946793e-01, -3.23447715e-02,\n",
       "        2.90887517e-02,  6.44947131e-03,  1.59290877e-02, -2.01299063e-02,\n",
       "       -3.52107051e-04, -9.63622727e-02, -4.64600303e-02,  0.00000000e+00,\n",
       "       -5.43748506e-02, -9.02380592e-02,  1.15394347e-01,  1.05133825e-01,\n",
       "        5.85757802e-02, -2.82979994e-01,  0.00000000e+00,  1.49650370e-01,\n",
       "       -7.35867413e-03,  2.18434643e-02,  1.93394610e-03, -1.24901971e-02,\n",
       "        2.34647663e-02,  5.29345039e-02,  3.50562138e-02,  4.53457488e-02,\n",
       "        2.38955410e-02,  5.23010809e-02,  1.88312794e-03,  1.88312794e-03,\n",
       "       -9.19155066e-03, -3.39320133e-03, -6.13492720e-02,  2.79293220e-02,\n",
       "        1.88312794e-03, -2.01299063e-02, -3.70884852e-02, -9.37257014e-03,\n",
       "        1.71330421e-02,  1.88312794e-03, -6.19977369e-02,  1.56402751e-02,\n",
       "        1.96728593e-02,  4.84147121e-02,  3.85037030e-02,  6.68963281e-02,\n",
       "        4.49936531e-02, -1.49485903e-02, -1.46428884e-02,  5.39841976e-02,\n",
       "        8.95217173e-02,  0.00000000e+00,  1.75335662e-02,  2.30569570e-02])"
      ]
     },
     "execution_count": 29,
     "metadata": {},
     "output_type": "execute_result"
    }
   ],
   "source": [
    "ridge_model.coef_"
   ]
  },
  {
   "cell_type": "code",
   "execution_count": 30,
   "id": "23439843-e872-413a-88b6-b14f20dd6130",
   "metadata": {},
   "outputs": [
    {
     "data": {
      "text/html": [
       "<div>\n",
       "<style scoped>\n",
       "    .dataframe tbody tr th:only-of-type {\n",
       "        vertical-align: middle;\n",
       "    }\n",
       "\n",
       "    .dataframe tbody tr th {\n",
       "        vertical-align: top;\n",
       "    }\n",
       "\n",
       "    .dataframe thead th {\n",
       "        text-align: right;\n",
       "    }\n",
       "</style>\n",
       "<table border=\"1\" class=\"dataframe\">\n",
       "  <thead>\n",
       "    <tr style=\"text-align: right;\">\n",
       "      <th></th>\n",
       "      <th>Features</th>\n",
       "      <th>Weights</th>\n",
       "    </tr>\n",
       "  </thead>\n",
       "  <tbody>\n",
       "    <tr>\n",
       "      <th>0</th>\n",
       "      <td>Lot Frontage</td>\n",
       "      <td>0.000343</td>\n",
       "    </tr>\n",
       "    <tr>\n",
       "      <th>1</th>\n",
       "      <td>Lot Area</td>\n",
       "      <td>0.000004</td>\n",
       "    </tr>\n",
       "    <tr>\n",
       "      <th>2</th>\n",
       "      <td>Mas Vnr Area</td>\n",
       "      <td>0.000034</td>\n",
       "    </tr>\n",
       "    <tr>\n",
       "      <th>3</th>\n",
       "      <td>Bsmt Unf SF</td>\n",
       "      <td>-0.000064</td>\n",
       "    </tr>\n",
       "    <tr>\n",
       "      <th>4</th>\n",
       "      <td>Low Qual Fin SF</td>\n",
       "      <td>0.000077</td>\n",
       "    </tr>\n",
       "  </tbody>\n",
       "</table>\n",
       "</div>"
      ],
      "text/plain": [
       "          Features   Weights\n",
       "0     Lot Frontage  0.000343\n",
       "1         Lot Area  0.000004\n",
       "2     Mas Vnr Area  0.000034\n",
       "3      Bsmt Unf SF -0.000064\n",
       "4  Low Qual Fin SF  0.000077"
      ]
     },
     "execution_count": 30,
     "metadata": {},
     "output_type": "execute_result"
    }
   ],
   "source": [
    "coef_summary = pd.DataFrame(X_train.columns.values, columns=['Features'])\n",
    "coef_summary['Weights'] = ridge_model.coef_\n",
    "coef_summary.head()"
   ]
  },
  {
   "cell_type": "code",
   "execution_count": 31,
   "id": "a1d1a4b8-fa41-4716-8d0b-b4bfcfb987d1",
   "metadata": {},
   "outputs": [
    {
     "data": {
      "text/html": [
       "<div>\n",
       "<style scoped>\n",
       "    .dataframe tbody tr th:only-of-type {\n",
       "        vertical-align: middle;\n",
       "    }\n",
       "\n",
       "    .dataframe tbody tr th {\n",
       "        vertical-align: top;\n",
       "    }\n",
       "\n",
       "    .dataframe thead th {\n",
       "        text-align: right;\n",
       "    }\n",
       "</style>\n",
       "<table border=\"1\" class=\"dataframe\">\n",
       "  <thead>\n",
       "    <tr style=\"text-align: right;\">\n",
       "      <th></th>\n",
       "      <th>Features</th>\n",
       "      <th>Weights</th>\n",
       "    </tr>\n",
       "  </thead>\n",
       "  <tbody>\n",
       "    <tr>\n",
       "      <th>229</th>\n",
       "      <td>213</td>\n",
       "      <td>-0.282980</td>\n",
       "    </tr>\n",
       "    <tr>\n",
       "      <th>174</th>\n",
       "      <td>158</td>\n",
       "      <td>-0.202029</td>\n",
       "    </tr>\n",
       "    <tr>\n",
       "      <th>214</th>\n",
       "      <td>198</td>\n",
       "      <td>-0.180947</td>\n",
       "    </tr>\n",
       "    <tr>\n",
       "      <th>105</th>\n",
       "      <td>89</td>\n",
       "      <td>-0.159329</td>\n",
       "    </tr>\n",
       "    <tr>\n",
       "      <th>115</th>\n",
       "      <td>99</td>\n",
       "      <td>-0.155169</td>\n",
       "    </tr>\n",
       "  </tbody>\n",
       "</table>\n",
       "</div>"
      ],
      "text/plain": [
       "    Features   Weights\n",
       "229      213 -0.282980\n",
       "174      158 -0.202029\n",
       "214      198 -0.180947\n",
       "105       89 -0.159329\n",
       "115       99 -0.155169"
      ]
     },
     "execution_count": 31,
     "metadata": {},
     "output_type": "execute_result"
    }
   ],
   "source": [
    "coef_summary.sort_values(by='Weights').head()"
   ]
  },
  {
   "cell_type": "code",
   "execution_count": 32,
   "id": "d8e0e815-9d13-4a3e-bd80-49cf370eabdc",
   "metadata": {
    "tags": []
   },
   "outputs": [
    {
     "data": {
      "text/plain": [
       "12.027060107350682"
      ]
     },
     "execution_count": 32,
     "metadata": {},
     "output_type": "execute_result"
    }
   ],
   "source": [
    "ridge_model.intercept_"
   ]
  },
  {
   "cell_type": "markdown",
   "id": "b8b154f9-14d5-435e-9a0c-0817e78f1a5c",
   "metadata": {},
   "source": [
    "### 2.7 Export y_pred for kaggle submission"
   ]
  },
  {
   "cell_type": "code",
   "execution_count": 33,
   "id": "4038d2d5-8dce-4f53-bf3e-3f0017390459",
   "metadata": {},
   "outputs": [
    {
     "data": {
      "text/html": [
       "<div>\n",
       "<style scoped>\n",
       "    .dataframe tbody tr th:only-of-type {\n",
       "        vertical-align: middle;\n",
       "    }\n",
       "\n",
       "    .dataframe tbody tr th {\n",
       "        vertical-align: top;\n",
       "    }\n",
       "\n",
       "    .dataframe thead th {\n",
       "        text-align: right;\n",
       "    }\n",
       "</style>\n",
       "<table border=\"1\" class=\"dataframe\">\n",
       "  <thead>\n",
       "    <tr style=\"text-align: right;\">\n",
       "      <th></th>\n",
       "      <th>Id</th>\n",
       "      <th>SalePrice</th>\n",
       "    </tr>\n",
       "  </thead>\n",
       "  <tbody>\n",
       "    <tr>\n",
       "      <th>0</th>\n",
       "      <td>2658</td>\n",
       "      <td>127653.873548</td>\n",
       "    </tr>\n",
       "    <tr>\n",
       "      <th>1</th>\n",
       "      <td>2718</td>\n",
       "      <td>159212.977821</td>\n",
       "    </tr>\n",
       "    <tr>\n",
       "      <th>2</th>\n",
       "      <td>2414</td>\n",
       "      <td>215286.574980</td>\n",
       "    </tr>\n",
       "    <tr>\n",
       "      <th>3</th>\n",
       "      <td>1989</td>\n",
       "      <td>102822.282488</td>\n",
       "    </tr>\n",
       "    <tr>\n",
       "      <th>4</th>\n",
       "      <td>625</td>\n",
       "      <td>164519.570366</td>\n",
       "    </tr>\n",
       "    <tr>\n",
       "      <th>...</th>\n",
       "      <td>...</td>\n",
       "      <td>...</td>\n",
       "    </tr>\n",
       "    <tr>\n",
       "      <th>873</th>\n",
       "      <td>1662</td>\n",
       "      <td>193671.493014</td>\n",
       "    </tr>\n",
       "    <tr>\n",
       "      <th>874</th>\n",
       "      <td>1234</td>\n",
       "      <td>215480.216218</td>\n",
       "    </tr>\n",
       "    <tr>\n",
       "      <th>875</th>\n",
       "      <td>1373</td>\n",
       "      <td>130896.158449</td>\n",
       "    </tr>\n",
       "    <tr>\n",
       "      <th>876</th>\n",
       "      <td>1672</td>\n",
       "      <td>117817.010281</td>\n",
       "    </tr>\n",
       "    <tr>\n",
       "      <th>877</th>\n",
       "      <td>1939</td>\n",
       "      <td>124997.030018</td>\n",
       "    </tr>\n",
       "  </tbody>\n",
       "</table>\n",
       "<p>878 rows × 2 columns</p>\n",
       "</div>"
      ],
      "text/plain": [
       "       Id      SalePrice\n",
       "0    2658  127653.873548\n",
       "1    2718  159212.977821\n",
       "2    2414  215286.574980\n",
       "3    1989  102822.282488\n",
       "4     625  164519.570366\n",
       "..    ...            ...\n",
       "873  1662  193671.493014\n",
       "874  1234  215480.216218\n",
       "875  1373  130896.158449\n",
       "876  1672  117817.010281\n",
       "877  1939  124997.030018\n",
       "\n",
       "[878 rows x 2 columns]"
      ]
     },
     "execution_count": 33,
     "metadata": {},
     "output_type": "execute_result"
    }
   ],
   "source": [
    "ridge_sub = pd.DataFrame({'Id':test['Id'],'SalePrice':y_test_kaggle_ridge})\n",
    "\n",
    "ridge_sub"
   ]
  },
  {
   "cell_type": "code",
   "execution_count": 34,
   "id": "f92180ea-2e84-4e4d-b38c-84dcb6f47fe5",
   "metadata": {},
   "outputs": [],
   "source": [
    "# export to csv file\n",
    "ridge_sub.to_csv(r'../datasets/ridge_sub.csv', index = False)"
   ]
  },
  {
   "cell_type": "markdown",
   "id": "13554f5b-25b6-4127-bfff-cc8ddffbaf42",
   "metadata": {},
   "source": [
    "## 3.1 Lasso regression"
   ]
  },
  {
   "cell_type": "markdown",
   "id": "a53e92f6-787b-4c50-9260-3769f3d98f3f",
   "metadata": {},
   "source": [
    "### 3.2 Fit Lasso Regression with deafult parameters."
   ]
  },
  {
   "cell_type": "code",
   "execution_count": 35,
   "id": "84422cca-2ac4-4e1d-8bf0-f05766eacb3c",
   "metadata": {},
   "outputs": [],
   "source": [
    "# Instantiate StandardScaler\n",
    "ss = StandardScaler()\n",
    "\n",
    "# Fit and transform train.\n",
    "X_train_sc = ss.fit_transform(X_train)\n",
    "\n",
    "# Transform test.\n",
    "X_test_sc = ss.transform(X_test)"
   ]
  },
  {
   "cell_type": "code",
   "execution_count": 36,
   "id": "5bcbc054-125a-45d2-a54e-0c7df8d99130",
   "metadata": {},
   "outputs": [
    {
     "data": {
      "text/plain": [
       "Lasso()"
      ]
     },
     "execution_count": 36,
     "metadata": {},
     "output_type": "execute_result"
    }
   ],
   "source": [
    "# Instantiate.\n",
    "lasso = Lasso()\n",
    "\n",
    "# Fit on train.\n",
    "lasso.fit(X_train_sc, y_train)"
   ]
  },
  {
   "cell_type": "code",
   "execution_count": 37,
   "id": "e7a288c0-5195-4a2b-8979-580cd8493bff",
   "metadata": {},
   "outputs": [
    {
     "data": {
      "text/plain": [
       "-0.0011067747957018703"
      ]
     },
     "execution_count": 37,
     "metadata": {},
     "output_type": "execute_result"
    }
   ],
   "source": [
    "# Evaluate (predict and return 'accuracy' score).\n",
    "lasso.score(X_test_sc, y_test)"
   ]
  },
  {
   "cell_type": "markdown",
   "id": "b6d182d9-795a-4a35-bfff-9c4e5fbe7af4",
   "metadata": {},
   "source": [
    "The accuracy of the lasso regression model performed badly without fine tuning. "
   ]
  },
  {
   "cell_type": "markdown",
   "id": "b1e829e5-c1f6-4428-9a17-3723e2ca8022",
   "metadata": {},
   "source": [
    "### 3.3 Fine Tune the model by searching the best hyperparameters"
   ]
  },
  {
   "cell_type": "code",
   "execution_count": 38,
   "id": "bd782434-6512-4a04-a4dc-ab6058a1d01d",
   "metadata": {},
   "outputs": [],
   "source": [
    "ss_2 = StandardScaler()\n",
    "lasso_2 = Lasso()\n",
    "\n",
    "## create pipeline for lasso regression\n",
    "lasso_pipeline = Pipeline([\n",
    "                ('ss', ss_2),\n",
    "                ('lasso', lasso_2)\n",
    "])\n"
   ]
  },
  {
   "cell_type": "code",
   "execution_count": 39,
   "id": "15679e3d-a3cd-4e4c-8f0d-c8748d2ceea7",
   "metadata": {},
   "outputs": [
    {
     "data": {
      "text/plain": [
       "{'memory': None,\n",
       " 'steps': [('ss', StandardScaler()), ('lasso', Lasso())],\n",
       " 'verbose': False,\n",
       " 'ss': StandardScaler(),\n",
       " 'lasso': Lasso(),\n",
       " 'ss__copy': True,\n",
       " 'ss__with_mean': True,\n",
       " 'ss__with_std': True,\n",
       " 'lasso__alpha': 1.0,\n",
       " 'lasso__copy_X': True,\n",
       " 'lasso__fit_intercept': True,\n",
       " 'lasso__max_iter': 1000,\n",
       " 'lasso__normalize': False,\n",
       " 'lasso__positive': False,\n",
       " 'lasso__precompute': False,\n",
       " 'lasso__random_state': None,\n",
       " 'lasso__selection': 'cyclic',\n",
       " 'lasso__tol': 0.0001,\n",
       " 'lasso__warm_start': False}"
      ]
     },
     "execution_count": 39,
     "metadata": {},
     "output_type": "execute_result"
    }
   ],
   "source": [
    "lasso_pipeline.get_params()"
   ]
  },
  {
   "cell_type": "code",
   "execution_count": 40,
   "id": "5e6703da-700b-44c8-b35c-59e7a3a845d9",
   "metadata": {},
   "outputs": [],
   "source": [
    "# Create dictionary of hyperparameters (param_grid).\n",
    "lasso_params = { 'ss__with_mean': [True, False], \n",
    "                 'ss__with_std': [True, False],\n",
    "                'lasso__alpha' : np.linspace(0.01, 1.0, 10),\n",
    "                'lasso__normalize': [True,False]\n",
    "}"
   ]
  },
  {
   "cell_type": "code",
   "execution_count": 41,
   "id": "b9cc715b-d694-4e67-a0c0-c948286e6d8b",
   "metadata": {},
   "outputs": [],
   "source": [
    "# Instantiate GridSearchCV object.\n",
    "lasso_gridsearch = GridSearchCV(lasso_pipeline,\n",
    "                               lasso_params,\n",
    "                               cv=5,\n",
    "                               verbose=1, \n",
    "                               )"
   ]
  },
  {
   "cell_type": "code",
   "execution_count": 42,
   "id": "aff878b8-f15b-4ee2-a4ca-26649ad958bb",
   "metadata": {},
   "outputs": [
    {
     "name": "stdout",
     "output_type": "stream",
     "text": [
      "Fitting 5 folds for each of 80 candidates, totalling 400 fits\n"
     ]
    },
    {
     "data": {
      "text/plain": [
       "GridSearchCV(cv=5,\n",
       "             estimator=Pipeline(steps=[('ss', StandardScaler()),\n",
       "                                       ('lasso', Lasso())]),\n",
       "             param_grid={'lasso__alpha': array([0.01, 0.12, 0.23, 0.34, 0.45, 0.56, 0.67, 0.78, 0.89, 1.  ]),\n",
       "                         'lasso__normalize': [True, False],\n",
       "                         'ss__with_mean': [True, False],\n",
       "                         'ss__with_std': [True, False]},\n",
       "             verbose=1)"
      ]
     },
     "execution_count": 42,
     "metadata": {},
     "output_type": "execute_result"
    }
   ],
   "source": [
    "lasso_gridsearch.fit(X_train, y_train) # Fit the GridSearchCV object to the data"
   ]
  },
  {
   "cell_type": "code",
   "execution_count": 43,
   "id": "14eba979-ca34-42d4-8953-93a8be6f18dd",
   "metadata": {},
   "outputs": [
    {
     "data": {
      "text/plain": [
       "{'lasso__alpha': 0.01,\n",
       " 'lasso__normalize': False,\n",
       " 'ss__with_mean': True,\n",
       " 'ss__with_std': True}"
      ]
     },
     "execution_count": 43,
     "metadata": {},
     "output_type": "execute_result"
    }
   ],
   "source": [
    "lasso_gridsearch.best_params_"
   ]
  },
  {
   "cell_type": "code",
   "execution_count": 44,
   "id": "81962a6b-5216-4cf7-a2c4-c965eca885b4",
   "metadata": {},
   "outputs": [],
   "source": [
    "ss = StandardScaler(with_std=True, with_mean=True)\n",
    "lasso = Lasso(alpha = 0.01, normalize = False)"
   ]
  },
  {
   "cell_type": "code",
   "execution_count": 45,
   "id": "1ff9b27f-8c22-4c5a-921c-c3fa12920022",
   "metadata": {},
   "outputs": [],
   "source": [
    "lasso_model_pipe = Pipeline([\n",
    "    ('ss', ss),\n",
    "    ('lasso', lasso)\n",
    "])\n",
    "\n",
    "lasso_model = lasso_model_pipe.named_steps['lasso']"
   ]
  },
  {
   "cell_type": "code",
   "execution_count": 46,
   "id": "bb5ff46f-3875-4059-918a-ccb71bba632d",
   "metadata": {},
   "outputs": [
    {
     "data": {
      "text/plain": [
       "Pipeline(steps=[('ss', StandardScaler()), ('lasso', Lasso(alpha=0.01))])"
      ]
     },
     "execution_count": 46,
     "metadata": {},
     "output_type": "execute_result"
    }
   ],
   "source": [
    "lasso_model_pipe.fit(X_train, y_train)"
   ]
  },
  {
   "cell_type": "code",
   "execution_count": 47,
   "id": "c7572cb4-832d-492e-b47c-b2567e3ac264",
   "metadata": {},
   "outputs": [
    {
     "name": "stdout",
     "output_type": "stream",
     "text": [
      "Lasso model score on train dataset = 0.9191583307535927\n"
     ]
    }
   ],
   "source": [
    "lasso_train_score = lasso_model_pipe.score(X_train, y_train)\n",
    "print(f'Lasso model score on train dataset = {lasso_train_score}')"
   ]
  },
  {
   "cell_type": "code",
   "execution_count": 48,
   "id": "2d60c6f2-1cb1-418c-bfb2-eb0bf0a2738b",
   "metadata": {},
   "outputs": [
    {
     "name": "stdout",
     "output_type": "stream",
     "text": [
      "Lasso model score on test dataset = 0.9191583307535927\n"
     ]
    }
   ],
   "source": [
    "lasso_test_score = lasso_model_pipe.score(X_test, y_test)\n",
    "print(f'Lasso model score on test dataset = {lasso_train_score}')"
   ]
  },
  {
   "cell_type": "code",
   "execution_count": 49,
   "id": "b96e4d59-1a06-4c4f-8cdb-8717b37320a6",
   "metadata": {},
   "outputs": [],
   "source": [
    "y_pred_lasso = lasso_model_pipe.predict(X_test)"
   ]
  },
  {
   "cell_type": "code",
   "execution_count": 50,
   "id": "8023cef6-90b8-487e-accb-2077f3e459ca",
   "metadata": {},
   "outputs": [
    {
     "data": {
      "text/plain": [
       "21784.713830120232"
      ]
     },
     "execution_count": 50,
     "metadata": {},
     "output_type": "execute_result"
    }
   ],
   "source": [
    "lasso_rmse = metrics.mean_squared_error(np.exp(y_test), np.exp(y_pred_lasso),squared=False)\n",
    "lasso_rmse"
   ]
  },
  {
   "cell_type": "code",
   "execution_count": 51,
   "id": "21d11a94-1faf-421f-b748-32869c6b7d36",
   "metadata": {},
   "outputs": [],
   "source": [
    "# predict kaggle test dataset\n",
    "y_test_kaggle_lasso = np.exp(lasso_model_pipe.predict(test_processed))"
   ]
  },
  {
   "cell_type": "markdown",
   "id": "2139ae2b-81b7-4383-a8cf-b974b8acbd14",
   "metadata": {},
   "source": [
    "### 3.4 Inferential Visualizations"
   ]
  },
  {
   "cell_type": "code",
   "execution_count": 52,
   "id": "5ab668a8-6d6a-4eee-8c17-2a226ca5d4be",
   "metadata": {},
   "outputs": [
    {
     "data": {
      "image/png": "[encoded data removed]",
      "text/plain": [
       "<Figure size 576x576 with 1 Axes>"
      ]
     },
     "metadata": {
      "needs_background": "light"
     },
     "output_type": "display_data"
    }
   ],
   "source": [
    "plt.figure(figsize=(8,8))\n",
    "sns.scatterplot(x = np.exp(y_test), y= np.exp(y_pred_lasso))\n",
    "plt.title('y test vs lassso y prediction ', fontsize=20)\n",
    "plt.xlabel('y_pred',fontsize=17)\n",
    "plt.ylabel('y_test', fontsize=17)\n",
    "plt.show()"
   ]
  },
  {
   "cell_type": "code",
   "execution_count": 53,
   "id": "167450bd-ea0b-4872-8bbd-b88f61863ec6",
   "metadata": {
    "tags": []
   },
   "outputs": [
    {
     "name": "stdout",
     "output_type": "stream",
     "text": [
      "Lasso model R2 score on predicted date = 0.861820039242035\n"
     ]
    }
   ],
   "source": [
    "lasso_r2_score = metrics.r2_score(y_test, y_pred_lasso)\n",
    "print(f'Lasso model R2 score on predicted date = {lasso_r2_score}')\n",
    "\n",
    "## The model explains 86.18 % of the variability of the response data around its mean."
   ]
  },
  {
   "cell_type": "code",
   "execution_count": 54,
   "id": "d8795d71-4146-48d2-abdc-bd6dc2be5b4a",
   "metadata": {},
   "outputs": [
    {
     "name": "stdout",
     "output_type": "stream",
     "text": [
      "177648.13079672074\n",
      "-0.7439831929504224\n"
     ]
    }
   ],
   "source": [
    "y_pred_mean = np.exp(y_pred_lasso).mean()\n",
    "\n",
    "diff = y_pred_mean - baseline\n",
    "\n",
    "print(y_pred_mean)\n",
    "print(diff/baseline*100)"
   ]
  },
  {
   "cell_type": "markdown",
   "id": "c42b65f4-03d6-4e98-a82b-6ff12a1a391d",
   "metadata": {},
   "source": [
    "The lasso model predcited mean price is $177648, which is -0.67% less than baseline score."
   ]
  },
  {
   "cell_type": "code",
   "execution_count": 55,
   "id": "56fea2fb-c235-451f-a373-8ecfc654c267",
   "metadata": {},
   "outputs": [
    {
     "data": {
      "text/plain": [
       "<Figure size 576x576 with 0 Axes>"
      ]
     },
     "metadata": {},
     "output_type": "display_data"
    },
    {
     "data": {
      "image/png": "[encoded data removed]",
      "text/plain": [
       "<Figure size 360x360 with 1 Axes>"
      ]
     },
     "metadata": {
      "needs_background": "light"
     },
     "output_type": "display_data"
    }
   ],
   "source": [
    "## Residual plot\n",
    "\n",
    "residuals = y_test - y_pred_lasso\n",
    "\n",
    "plt.figure(figsize=(8,8))\n",
    "sns.displot(residuals)\n",
    "plt.title('Residual PDF', size = 18)\n",
    "plt.xlabel('Residuals',fontsize=17)\n",
    "plt.show()\n"
   ]
  },
  {
   "cell_type": "markdown",
   "id": "7b49e865-2dd1-4525-a8d9-7a41fc85d534",
   "metadata": {},
   "source": [
    "The residuals of the model seems to be normally distrubted. There is some residual at the negative side of the log price, which means there is some estimation where the model predicted much larger housing price value compared to target value."
   ]
  },
  {
   "cell_type": "code",
   "execution_count": 56,
   "id": "e5941650-6686-4c56-a715-774dddecaeb0",
   "metadata": {},
   "outputs": [
    {
     "data": {
      "image/png": "[encoded data removed]",
      "text/plain": [
       "<Figure size 576x576 with 1 Axes>"
      ]
     },
     "metadata": {
      "needs_background": "light"
     },
     "output_type": "display_data"
    }
   ],
   "source": [
    "## Equal Variance\n",
    "plt.figure(figsize=(8,8))\n",
    "sns.scatterplot(x= y_pred_lasso, y=residuals)\n",
    "plt.title('Equal variance', size = 18)\n",
    "plt.xlabel('Lasso predicted sale price',fontsize=17)\n",
    "plt.ylabel('Residuals',fontsize=17)\n",
    "plt.show()"
   ]
  },
  {
   "cell_type": "markdown",
   "id": "44001030-78bd-44bf-9663-3076ae2d3013",
   "metadata": {},
   "source": [
    "The residuals for lasso model are not scattered and random. "
   ]
  },
  {
   "cell_type": "markdown",
   "id": "a7f69fce-c001-4006-a85e-2e79b703d3ed",
   "metadata": {},
   "source": [
    "#### 3.5 Determine the weights and bias"
   ]
  },
  {
   "cell_type": "code",
   "execution_count": 57,
   "id": "ba30aed5-e1e2-498c-bdfd-f483f4085a35",
   "metadata": {},
   "outputs": [
    {
     "data": {
      "text/plain": [
       "array([ 0.00092374,  0.01471077,  0.0004465 , -0.00244253,  0.        ,\n",
       "        0.04616119,  0.        ,  0.01724692,  0.01793639,  0.01699199,\n",
       "        0.00322063, -0.05095818,  0.        ,  0.12210796,  0.02863058,\n",
       "        0.00711742, -0.00992035,  0.        ,  0.        , -0.        ,\n",
       "        0.        ,  0.        ,  0.        ,  0.        ,  0.        ,\n",
       "       -0.00696667, -0.        ,  0.        , -0.0038859 , -0.        ,\n",
       "       -0.        , -0.01898136,  0.        , -0.        , -0.        ,\n",
       "        0.        , -0.00736021,  0.        ,  0.        , -0.        ,\n",
       "       -0.00022398,  0.00103401, -0.        , -0.        ,  0.        ,\n",
       "       -0.        ,  0.        , -0.        , -0.        , -0.        ,\n",
       "        0.        , -0.        , -0.        , -0.        ,  0.        ,\n",
       "        0.        ,  0.        ,  0.01307508, -0.        , -0.        ,\n",
       "       -0.        ,  0.00239044, -0.        , -0.        , -0.00713444,\n",
       "        0.        , -0.        , -0.        , -0.        ,  0.        ,\n",
       "        0.0054196 , -0.00058783,  0.        , -0.        , -0.        ,\n",
       "        0.        ,  0.00142433,  0.        ,  0.        , -0.        ,\n",
       "        0.00095186,  0.        ,  0.        , -0.        , -0.        ,\n",
       "       -0.        , -0.        ,  0.        ,  0.        ,  0.        ,\n",
       "        0.        ,  0.        , -0.        , -0.        , -0.        ,\n",
       "       -0.00438279, -0.00226469, -0.        ,  0.        , -0.        ,\n",
       "        0.        ,  0.        ,  0.        ,  0.        ,  0.        ,\n",
       "       -0.00926471, -0.00704416, -0.01336098, -0.        , -0.        ,\n",
       "        0.00161625,  0.01811747,  0.03136814,  0.01737974, -0.        ,\n",
       "       -0.02920893, -0.01186025, -0.        ,  0.        ,  0.00899447,\n",
       "        0.00509473,  0.00615663, -0.        , -0.        ,  0.        ,\n",
       "       -0.        ,  0.        , -0.        ,  0.        ,  0.        ,\n",
       "        0.        ,  0.        , -0.        ,  0.        ,  0.        ,\n",
       "       -0.00026333,  0.        , -0.        ,  0.        , -0.        ,\n",
       "        0.        , -0.        , -0.        ,  0.        ,  0.        ,\n",
       "        0.        ,  0.        , -0.        ,  0.        ,  0.        ,\n",
       "       -0.        , -0.        , -0.        ,  0.        , -0.        ,\n",
       "       -0.        , -0.        ,  0.        , -0.        ,  0.        ,\n",
       "       -0.        ,  0.        ,  0.        ,  0.        ,  0.        ,\n",
       "        0.        ,  0.        , -0.        ,  0.00085323, -0.00733882,\n",
       "        0.        , -0.01410283, -0.00089307,  0.        , -0.01098815,\n",
       "        0.        , -0.        ,  0.00821355, -0.        ,  0.        ,\n",
       "        0.        , -0.00058208,  0.        , -0.        ,  0.        ,\n",
       "       -0.        , -0.        ,  0.        , -0.        , -0.        ,\n",
       "        0.        ,  0.01712877, -0.        , -0.        , -0.        ,\n",
       "        0.        ,  0.0174747 , -0.        , -0.        , -0.        ,\n",
       "       -0.        , -0.        ,  0.        , -0.        , -0.        ,\n",
       "       -0.        ,  0.        ,  0.        , -0.        , -0.01000682,\n",
       "       -0.        , -0.        , -0.        , -0.        , -0.00462384,\n",
       "       -0.01182102,  0.01376795, -0.        , -0.        , -0.        ,\n",
       "        0.        , -0.00869243,  0.        ,  0.        , -0.01897482,\n",
       "       -0.00496452,  0.        , -0.        , -0.        , -0.02771734,\n",
       "        0.        ,  0.00904122, -0.        ,  0.00485562, -0.01242154,\n",
       "       -0.        ,  0.        ,  0.00229208, -0.        ,  0.        ,\n",
       "       -0.        , -0.        , -0.        , -0.        ,  0.        ,\n",
       "       -0.        , -0.00058075,  0.        , -0.        , -0.        ,\n",
       "        0.        , -0.        ,  0.        , -0.        , -0.        ,\n",
       "        0.00197805, -0.        ,  0.01358665,  0.        ,  0.        ,\n",
       "        0.        ,  0.        , -0.        ,  0.01260318,  0.        ,\n",
       "        0.        , -0.        ,  0.        ])"
      ]
     },
     "execution_count": 57,
     "metadata": {},
     "output_type": "execute_result"
    }
   ],
   "source": [
    "lasso_model.coef_ # get lasso coefficient"
   ]
  },
  {
   "cell_type": "code",
   "execution_count": 58,
   "id": "f1f74c68-d000-4a72-8e84-b9ea752d7f50",
   "metadata": {},
   "outputs": [
    {
     "data": {
      "text/html": [
       "<div>\n",
       "<style scoped>\n",
       "    .dataframe tbody tr th:only-of-type {\n",
       "        vertical-align: middle;\n",
       "    }\n",
       "\n",
       "    .dataframe tbody tr th {\n",
       "        vertical-align: top;\n",
       "    }\n",
       "\n",
       "    .dataframe thead th {\n",
       "        text-align: right;\n",
       "    }\n",
       "</style>\n",
       "<table border=\"1\" class=\"dataframe\">\n",
       "  <thead>\n",
       "    <tr style=\"text-align: right;\">\n",
       "      <th></th>\n",
       "      <th>Features</th>\n",
       "      <th>Weights</th>\n",
       "    </tr>\n",
       "  </thead>\n",
       "  <tbody>\n",
       "    <tr>\n",
       "      <th>0</th>\n",
       "      <td>Lot Frontage</td>\n",
       "      <td>0.000924</td>\n",
       "    </tr>\n",
       "    <tr>\n",
       "      <th>1</th>\n",
       "      <td>Lot Area</td>\n",
       "      <td>0.014711</td>\n",
       "    </tr>\n",
       "    <tr>\n",
       "      <th>2</th>\n",
       "      <td>Mas Vnr Area</td>\n",
       "      <td>0.000447</td>\n",
       "    </tr>\n",
       "    <tr>\n",
       "      <th>3</th>\n",
       "      <td>Bsmt Unf SF</td>\n",
       "      <td>-0.002443</td>\n",
       "    </tr>\n",
       "    <tr>\n",
       "      <th>4</th>\n",
       "      <td>Low Qual Fin SF</td>\n",
       "      <td>0.000000</td>\n",
       "    </tr>\n",
       "  </tbody>\n",
       "</table>\n",
       "</div>"
      ],
      "text/plain": [
       "          Features   Weights\n",
       "0     Lot Frontage  0.000924\n",
       "1         Lot Area  0.014711\n",
       "2     Mas Vnr Area  0.000447\n",
       "3      Bsmt Unf SF -0.002443\n",
       "4  Low Qual Fin SF  0.000000"
      ]
     },
     "execution_count": 58,
     "metadata": {},
     "output_type": "execute_result"
    }
   ],
   "source": [
    "# convert the coefficient into dataframe\n",
    "\n",
    "coef_summary = pd.DataFrame(X_train.columns.values, columns=['Features'])\n",
    "coef_summary['Weights'] = lasso_model.coef_\n",
    "coef_summary.head()"
   ]
  },
  {
   "cell_type": "code",
   "execution_count": 59,
   "id": "0d9447ba-b925-4e1d-861e-de71ca8f9f1d",
   "metadata": {},
   "outputs": [
    {
     "data": {
      "text/html": [
       "<div>\n",
       "<style scoped>\n",
       "    .dataframe tbody tr th:only-of-type {\n",
       "        vertical-align: middle;\n",
       "    }\n",
       "\n",
       "    .dataframe tbody tr th {\n",
       "        vertical-align: top;\n",
       "    }\n",
       "\n",
       "    .dataframe thead th {\n",
       "        text-align: right;\n",
       "    }\n",
       "</style>\n",
       "<table border=\"1\" class=\"dataframe\">\n",
       "  <thead>\n",
       "    <tr style=\"text-align: right;\">\n",
       "      <th></th>\n",
       "      <th>Features</th>\n",
       "      <th>Weights</th>\n",
       "    </tr>\n",
       "  </thead>\n",
       "  <tbody>\n",
       "    <tr>\n",
       "      <th>13</th>\n",
       "      <td>total_sf</td>\n",
       "      <td>0.122108</td>\n",
       "    </tr>\n",
       "    <tr>\n",
       "      <th>5</th>\n",
       "      <td>Gr Liv Area</td>\n",
       "      <td>0.046161</td>\n",
       "    </tr>\n",
       "    <tr>\n",
       "      <th>112</th>\n",
       "      <td>96</td>\n",
       "      <td>0.031368</td>\n",
       "    </tr>\n",
       "    <tr>\n",
       "      <th>14</th>\n",
       "      <td>total_bath</td>\n",
       "      <td>0.028631</td>\n",
       "    </tr>\n",
       "    <tr>\n",
       "      <th>111</th>\n",
       "      <td>95</td>\n",
       "      <td>0.018117</td>\n",
       "    </tr>\n",
       "  </tbody>\n",
       "</table>\n",
       "</div>"
      ],
      "text/plain": [
       "        Features   Weights\n",
       "13      total_sf  0.122108\n",
       "5    Gr Liv Area  0.046161\n",
       "112           96  0.031368\n",
       "14    total_bath  0.028631\n",
       "111           95  0.018117"
      ]
     },
     "execution_count": 59,
     "metadata": {},
     "output_type": "execute_result"
    }
   ],
   "source": [
    "coef_summary.sort_values(by='Weights', ascending = False).head()"
   ]
  },
  {
   "cell_type": "code",
   "execution_count": 60,
   "id": "fede64a2-e647-456a-b188-289ce723139d",
   "metadata": {
    "tags": []
   },
   "outputs": [
    {
     "data": {
      "text/plain": [
       "12.027060107350682"
      ]
     },
     "execution_count": 60,
     "metadata": {},
     "output_type": "execute_result"
    }
   ],
   "source": [
    "lasso_model.intercept_"
   ]
  },
  {
   "cell_type": "markdown",
   "id": "eddd1506-0fc0-46c5-94e3-33bc01da39fb",
   "metadata": {},
   "source": [
    "### 3.6 Export y_pred for kaggle submission"
   ]
  },
  {
   "cell_type": "code",
   "execution_count": 61,
   "id": "229764e5-acb1-40f0-ae76-86598089262a",
   "metadata": {},
   "outputs": [
    {
     "data": {
      "text/html": [
       "<div>\n",
       "<style scoped>\n",
       "    .dataframe tbody tr th:only-of-type {\n",
       "        vertical-align: middle;\n",
       "    }\n",
       "\n",
       "    .dataframe tbody tr th {\n",
       "        vertical-align: top;\n",
       "    }\n",
       "\n",
       "    .dataframe thead th {\n",
       "        text-align: right;\n",
       "    }\n",
       "</style>\n",
       "<table border=\"1\" class=\"dataframe\">\n",
       "  <thead>\n",
       "    <tr style=\"text-align: right;\">\n",
       "      <th></th>\n",
       "      <th>Id</th>\n",
       "      <th>SalePrice</th>\n",
       "    </tr>\n",
       "  </thead>\n",
       "  <tbody>\n",
       "    <tr>\n",
       "      <th>0</th>\n",
       "      <td>2658</td>\n",
       "      <td>138583.656342</td>\n",
       "    </tr>\n",
       "    <tr>\n",
       "      <th>1</th>\n",
       "      <td>2718</td>\n",
       "      <td>175881.910021</td>\n",
       "    </tr>\n",
       "    <tr>\n",
       "      <th>2</th>\n",
       "      <td>2414</td>\n",
       "      <td>210610.642482</td>\n",
       "    </tr>\n",
       "    <tr>\n",
       "      <th>3</th>\n",
       "      <td>1989</td>\n",
       "      <td>106223.788844</td>\n",
       "    </tr>\n",
       "    <tr>\n",
       "      <th>4</th>\n",
       "      <td>625</td>\n",
       "      <td>178037.764088</td>\n",
       "    </tr>\n",
       "    <tr>\n",
       "      <th>...</th>\n",
       "      <td>...</td>\n",
       "      <td>...</td>\n",
       "    </tr>\n",
       "    <tr>\n",
       "      <th>873</th>\n",
       "      <td>1662</td>\n",
       "      <td>186984.252716</td>\n",
       "    </tr>\n",
       "    <tr>\n",
       "      <th>874</th>\n",
       "      <td>1234</td>\n",
       "      <td>214932.750896</td>\n",
       "    </tr>\n",
       "    <tr>\n",
       "      <th>875</th>\n",
       "      <td>1373</td>\n",
       "      <td>137826.291654</td>\n",
       "    </tr>\n",
       "    <tr>\n",
       "      <th>876</th>\n",
       "      <td>1672</td>\n",
       "      <td>116048.230324</td>\n",
       "    </tr>\n",
       "    <tr>\n",
       "      <th>877</th>\n",
       "      <td>1939</td>\n",
       "      <td>130739.933054</td>\n",
       "    </tr>\n",
       "  </tbody>\n",
       "</table>\n",
       "<p>878 rows × 2 columns</p>\n",
       "</div>"
      ],
      "text/plain": [
       "       Id      SalePrice\n",
       "0    2658  138583.656342\n",
       "1    2718  175881.910021\n",
       "2    2414  210610.642482\n",
       "3    1989  106223.788844\n",
       "4     625  178037.764088\n",
       "..    ...            ...\n",
       "873  1662  186984.252716\n",
       "874  1234  214932.750896\n",
       "875  1373  137826.291654\n",
       "876  1672  116048.230324\n",
       "877  1939  130739.933054\n",
       "\n",
       "[878 rows x 2 columns]"
      ]
     },
     "execution_count": 61,
     "metadata": {},
     "output_type": "execute_result"
    }
   ],
   "source": [
    "lasso_sub = pd.DataFrame({'Id':test['Id'],'SalePrice':y_test_kaggle_lasso})\n",
    "lasso_sub"
   ]
  },
  {
   "cell_type": "code",
   "execution_count": 62,
   "id": "9df8b0a1-efaf-463c-a8bf-c6a9e64a000f",
   "metadata": {},
   "outputs": [],
   "source": [
    "# export to csv file\n",
    "lasso_sub.to_csv(r'../datasets/lasso_sub.csv', index = False)"
   ]
  },
  {
   "cell_type": "markdown",
   "id": "12aef7cd-3be5-460d-93f8-23b9b167bf4d",
   "metadata": {},
   "source": [
    "### 4.1 Ordinary Least Square regression (OLS) "
   ]
  },
  {
   "cell_type": "markdown",
   "id": "4ecc00e5-2729-48f9-8892-804a7e681a7b",
   "metadata": {},
   "source": [
    "### 4.2 Fit Linear Regression with deafult parameters."
   ]
  },
  {
   "cell_type": "code",
   "execution_count": 63,
   "id": "996d5408-96cd-44f1-a3f2-5ee3cc237c62",
   "metadata": {},
   "outputs": [],
   "source": [
    "# Instantiate StandardScaler\n",
    "ss = StandardScaler()\n",
    "\n",
    "# Fit and transform train.\n",
    "X_train_sc = ss.fit_transform(X_train)\n",
    "\n",
    "# Transform test.\n",
    "X_test_sc = ss.transform(X_test)"
   ]
  },
  {
   "cell_type": "code",
   "execution_count": 64,
   "id": "81fcebb7-f987-44ca-87d6-13a13da13db5",
   "metadata": {},
   "outputs": [
    {
     "data": {
      "text/plain": [
       "LinearRegression()"
      ]
     },
     "execution_count": 64,
     "metadata": {},
     "output_type": "execute_result"
    }
   ],
   "source": [
    "# Instantiate.\n",
    "lr = LinearRegression()\n",
    "\n",
    "# Fit on train.\n",
    "lr.fit(X_train_sc, y_train)"
   ]
  },
  {
   "cell_type": "code",
   "execution_count": 65,
   "id": "57946f5c-8200-451c-8e68-cf58a90d7270",
   "metadata": {},
   "outputs": [
    {
     "data": {
      "text/plain": [
       "-6.272482178660941e+22"
      ]
     },
     "execution_count": 65,
     "metadata": {},
     "output_type": "execute_result"
    }
   ],
   "source": [
    "# Evaluate (predict and return 'accuracy' score).\n",
    "lr.score(X_test_sc, y_test)"
   ]
  },
  {
   "cell_type": "markdown",
   "id": "bc6387f4-ec5b-408c-9847-16667fd53aff",
   "metadata": {},
   "source": [
    "The accuracy of the linear regression model is the worst without fine tuning. "
   ]
  },
  {
   "cell_type": "markdown",
   "id": "b720b8e9-b325-463a-b39d-6d3a904ea985",
   "metadata": {},
   "source": [
    "### 4.3 Fine Tune the model by searching the best hyperparameters"
   ]
  },
  {
   "cell_type": "code",
   "execution_count": 66,
   "id": "ed6ad628-e56e-45ce-80ee-756a7f02547d",
   "metadata": {},
   "outputs": [],
   "source": [
    "ss_2 = StandardScaler()\n",
    "lr_2 = LinearRegression()\n",
    "\n",
    "## create pipeline for lasso regression\n",
    "linear_pipeline = Pipeline([\n",
    "                ('ss', ss_2),\n",
    "                ('lr', lr_2)\n",
    "])"
   ]
  },
  {
   "cell_type": "code",
   "execution_count": 67,
   "id": "5e63876c-ab61-49e6-96eb-5c4306d690d4",
   "metadata": {},
   "outputs": [
    {
     "data": {
      "text/plain": [
       "{'memory': None,\n",
       " 'steps': [('ss', StandardScaler()), ('lr', LinearRegression())],\n",
       " 'verbose': False,\n",
       " 'ss': StandardScaler(),\n",
       " 'lr': LinearRegression(),\n",
       " 'ss__copy': True,\n",
       " 'ss__with_mean': True,\n",
       " 'ss__with_std': True,\n",
       " 'lr__copy_X': True,\n",
       " 'lr__fit_intercept': True,\n",
       " 'lr__n_jobs': None,\n",
       " 'lr__normalize': False,\n",
       " 'lr__positive': False}"
      ]
     },
     "execution_count": 67,
     "metadata": {},
     "output_type": "execute_result"
    }
   ],
   "source": [
    "linear_pipeline.get_params()"
   ]
  },
  {
   "cell_type": "code",
   "execution_count": 68,
   "id": "dec89d3e-ac3e-4347-be82-39370a66b60e",
   "metadata": {},
   "outputs": [],
   "source": [
    "# Create dictionary of hyperparameters (param_grid).\n",
    "linear_params = { 'ss__with_mean': [True, False], \n",
    "                 'ss__with_std': [True, False],\n",
    "                'lr__positive' : [True,False],\n",
    "                'lr__normalize': [True,False]\n",
    "}"
   ]
  },
  {
   "cell_type": "code",
   "execution_count": 69,
   "id": "0f6888da-b43e-43be-b12a-2a31aa0eaf45",
   "metadata": {},
   "outputs": [],
   "source": [
    "# Instantiate GridSearchCV object.\n",
    "linear_gridsearch = GridSearchCV(linear_pipeline,\n",
    "                               linear_params,\n",
    "                               cv=5,\n",
    "                               verbose=1, \n",
    "                               )"
   ]
  },
  {
   "cell_type": "code",
   "execution_count": 70,
   "id": "f069664e-c3d3-46bf-9a04-c93ebcfc2baf",
   "metadata": {},
   "outputs": [
    {
     "name": "stdout",
     "output_type": "stream",
     "text": [
      "Fitting 5 folds for each of 16 candidates, totalling 80 fits\n"
     ]
    },
    {
     "data": {
      "text/plain": [
       "GridSearchCV(cv=5,\n",
       "             estimator=Pipeline(steps=[('ss', StandardScaler()),\n",
       "                                       ('lr', LinearRegression())]),\n",
       "             param_grid={'lr__normalize': [True, False],\n",
       "                         'lr__positive': [True, False],\n",
       "                         'ss__with_mean': [True, False],\n",
       "                         'ss__with_std': [True, False]},\n",
       "             verbose=1)"
      ]
     },
     "execution_count": 70,
     "metadata": {},
     "output_type": "execute_result"
    }
   ],
   "source": [
    "linear_gridsearch.fit(X_train, y_train) # Fit the GridSearchCV object to the data"
   ]
  },
  {
   "cell_type": "code",
   "execution_count": 71,
   "id": "50eb8d24-8e37-4662-89c6-88288e028a38",
   "metadata": {},
   "outputs": [
    {
     "data": {
      "text/plain": [
       "{'lr__normalize': False,\n",
       " 'lr__positive': False,\n",
       " 'ss__with_mean': True,\n",
       " 'ss__with_std': False}"
      ]
     },
     "execution_count": 71,
     "metadata": {},
     "output_type": "execute_result"
    }
   ],
   "source": [
    "linear_gridsearch.best_params_"
   ]
  },
  {
   "cell_type": "code",
   "execution_count": 72,
   "id": "e790581a-6c7a-4feb-94b2-a74c5f25b341",
   "metadata": {},
   "outputs": [],
   "source": [
    "ss = StandardScaler(with_std=False)"
   ]
  },
  {
   "cell_type": "code",
   "execution_count": 73,
   "id": "0a146ff2-f8ed-45ca-aa7c-6e6359529016",
   "metadata": {},
   "outputs": [],
   "source": [
    "linear_model_pipe = Pipeline([\n",
    "    ('ss', ss),\n",
    "    ('linear', lr)\n",
    "])\n",
    "\n",
    "linear_model = linear_model_pipe.named_steps['linear']"
   ]
  },
  {
   "cell_type": "code",
   "execution_count": 74,
   "id": "6d7450db-52c1-46f8-af86-51f1b00c7cd6",
   "metadata": {},
   "outputs": [
    {
     "data": {
      "text/plain": [
       "Pipeline(steps=[('ss', StandardScaler(with_std=False)),\n",
       "                ('linear', LinearRegression())])"
      ]
     },
     "execution_count": 74,
     "metadata": {},
     "output_type": "execute_result"
    }
   ],
   "source": [
    "linear_model_pipe.fit(X_train, y_train)"
   ]
  },
  {
   "cell_type": "code",
   "execution_count": 75,
   "id": "5f9d017c-4e72-4767-a490-cf2528bbcebb",
   "metadata": {},
   "outputs": [
    {
     "name": "stdout",
     "output_type": "stream",
     "text": [
      "OLS model score on train dataset = 0.951509926898538\n"
     ]
    }
   ],
   "source": [
    "linear_train_score = linear_model_pipe.score(X_train, y_train)\n",
    "print(f'OLS model score on train dataset = {linear_train_score}')"
   ]
  },
  {
   "cell_type": "code",
   "execution_count": 76,
   "id": "5ac86639-1c8c-4b25-bfcf-36863553cf22",
   "metadata": {},
   "outputs": [
    {
     "name": "stdout",
     "output_type": "stream",
     "text": [
      "OLS model score on test dataset = 0.8732201915654847\n"
     ]
    }
   ],
   "source": [
    "linear_test_score = linear_model_pipe.score(X_test, y_test)\n",
    "print(f'OLS model score on test dataset = {linear_test_score}')"
   ]
  },
  {
   "cell_type": "code",
   "execution_count": 77,
   "id": "ba66eb96-5f08-4abf-bca5-6b4b6c0f1fc6",
   "metadata": {},
   "outputs": [],
   "source": [
    "y_pred_linear = linear_model_pipe.predict(X_test)"
   ]
  },
  {
   "cell_type": "code",
   "execution_count": 78,
   "id": "f904834e-bfc7-45a3-ac7f-f4d0ee5d38ba",
   "metadata": {},
   "outputs": [
    {
     "data": {
      "text/plain": [
       "21530.013554268942"
      ]
     },
     "execution_count": 78,
     "metadata": {},
     "output_type": "execute_result"
    }
   ],
   "source": [
    "linear_rmse = metrics.mean_squared_error(np.exp(y_test), np.exp(y_pred_linear),squared=False)\n",
    "linear_rmse"
   ]
  },
  {
   "cell_type": "code",
   "execution_count": 79,
   "id": "74ddaae0-8d49-4e64-b338-1662a781b339",
   "metadata": {},
   "outputs": [],
   "source": [
    "# predict kaggle test dataset\n",
    "y_test_kaggle_linear = np.exp(linear_model_pipe.predict(test_processed))"
   ]
  },
  {
   "cell_type": "markdown",
   "id": "b9e34ddd-7173-4fa3-b520-7471936380f2",
   "metadata": {},
   "source": [
    "###  4.4 Inferential Visualizations"
   ]
  },
  {
   "cell_type": "code",
   "execution_count": 80,
   "id": "69009182-05e5-47b5-859f-d86596300413",
   "metadata": {},
   "outputs": [
    {
     "data": {
      "image/png": "[encoded data removed]",
      "text/plain": [
       "<Figure size 576x576 with 1 Axes>"
      ]
     },
     "metadata": {
      "needs_background": "light"
     },
     "output_type": "display_data"
    }
   ],
   "source": [
    "plt.figure(figsize=(8,8))\n",
    "sns.scatterplot(x = np.exp(y_test), y= np.exp(y_pred_linear))\n",
    "plt.title('y test vs OLS y prediction', fontsize=20)\n",
    "plt.xlabel('y_pred',fontsize=17)\n",
    "plt.ylabel('y_test', fontsize=17)\n",
    "plt.show()"
   ]
  },
  {
   "cell_type": "code",
   "execution_count": 81,
   "id": "3d5d6408-d960-42cc-a1e9-6f0eb51e286d",
   "metadata": {
    "tags": []
   },
   "outputs": [
    {
     "data": {
      "text/plain": [
       "0.8732201915654847"
      ]
     },
     "execution_count": 81,
     "metadata": {},
     "output_type": "execute_result"
    }
   ],
   "source": [
    "linear_r2_score = metrics.r2_score(y_test, y_pred_linear)\n",
    "linear_r2_score\n",
    "## The model explains 87.32 % of the variability of the response data around its mean."
   ]
  },
  {
   "cell_type": "code",
   "execution_count": 82,
   "id": "1eee00c8-e261-4557-894c-e7ba35218c0f",
   "metadata": {},
   "outputs": [
    {
     "name": "stdout",
     "output_type": "stream",
     "text": [
      "180281.40333793795\n",
      "0.7272855585777119\n"
     ]
    }
   ],
   "source": [
    "y_pred_mean = np.exp(y_pred_linear).mean()\n",
    "\n",
    "diff = y_pred_mean - baseline\n",
    "\n",
    "print(y_pred_mean)\n",
    "print(diff/baseline*100)"
   ]
  },
  {
   "cell_type": "markdown",
   "id": "eb98803a-d639-4e77-bc14-a1c58daf6128",
   "metadata": {},
   "source": [
    "The linear model predcited mean price is $180281, which is 0.72% more than baseline score. "
   ]
  },
  {
   "cell_type": "code",
   "execution_count": 83,
   "id": "4671b6f8-8350-42f8-b41d-6b6c29432d8d",
   "metadata": {},
   "outputs": [
    {
     "data": {
      "image/png": "[encoded data removed]",
      "text/plain": [
       "<Figure size 360x360 with 1 Axes>"
      ]
     },
     "metadata": {
      "needs_background": "light"
     },
     "output_type": "display_data"
    }
   ],
   "source": [
    "## Residual plot\n",
    "\n",
    "residuals = y_test - y_pred_linear\n",
    "\n",
    "sns.displot(residuals)\n",
    "plt.title('Residuals PDF', size = 18)\n",
    "plt.xlabel('Residuals',fontsize=17)\n",
    "plt.ylabel('Count',fontsize=17)\n",
    "plt.show()\n"
   ]
  },
  {
   "cell_type": "markdown",
   "id": "e6e35bed-7b17-4098-b710-16fe8eb83dbe",
   "metadata": {},
   "source": [
    "The residuals of the model seems to be normally distrubted. There is some residual at the negative side and also the positive site of the log price."
   ]
  },
  {
   "cell_type": "code",
   "execution_count": 84,
   "id": "128ce750-03dd-4ec7-9f00-9c821987709d",
   "metadata": {},
   "outputs": [
    {
     "data": {
      "image/png": "[encoded data removed]",
      "text/plain": [
       "<Figure size 576x576 with 1 Axes>"
      ]
     },
     "metadata": {
      "needs_background": "light"
     },
     "output_type": "display_data"
    }
   ],
   "source": [
    "## Equal Variance\n",
    "\n",
    "plt.figure(figsize=(8,8))\n",
    "sns.scatterplot(x= y_pred_linear, y=residuals)\n",
    "plt.title('Equal variance', size = 18)\n",
    "plt.xlabel('OLS predicted sale price',fontsize=17)\n",
    "plt.ylabel('Residuals',fontsize=17)\n",
    "plt.show()"
   ]
  },
  {
   "cell_type": "markdown",
   "id": "9a9cbb2e-4cbd-4096-b8b7-be5873b45d8a",
   "metadata": {},
   "source": [
    "Similar to Ridge and lasso, the OLS residual are also concentrated within 11.5 to 12.5 range. "
   ]
  },
  {
   "cell_type": "markdown",
   "id": "9d93d735-9ea7-40a5-a167-a46c1a4f4c11",
   "metadata": {},
   "source": [
    "#### Determine the weights and bias"
   ]
  },
  {
   "cell_type": "code",
   "execution_count": 85,
   "id": "8f02c814-2667-4d0f-bc4d-75bb9e3754d9",
   "metadata": {},
   "outputs": [
    {
     "data": {
      "text/plain": [
       "array([ 4.19312602e-04,  4.24392859e-06,  2.83949284e-05, -6.44348626e-05,\n",
       "        4.18578887e-05,  9.62651738e-05,  3.52047565e-06,  1.50127699e-02,\n",
       "        3.02406473e-02,  2.94479231e-05,  5.71498200e-05, -3.26671371e-03,\n",
       "        6.69714065e-04,  1.49344113e-04,  2.30058074e-02,  1.31660468e-04,\n",
       "       -1.97322925e-02,  9.01727941e-02,  1.69727713e-01,  7.11028029e-02,\n",
       "       -3.53112446e-02,  4.56985008e-02,  3.68455341e-02, -8.05375537e-02,\n",
       "       -1.61267345e-02, -4.24011457e-02, -4.10875990e-02, -4.35415592e-16,\n",
       "       -1.19944749e-01, -1.11048073e-01,  1.01596948e-03,  4.53164775e-01,\n",
       "        8.27394771e-01,  4.13130668e-01,  8.21998721e-01,  7.88889879e-01,\n",
       "        7.36693415e-01,  2.13429862e-01,  1.70951267e-03, -4.19436254e-02,\n",
       "        3.09237923e-03,  1.39325107e-02, -1.74312620e-02,  4.65031686e-03,\n",
       "       -1.62231339e-14,  4.13130668e-01,  1.66785180e-02, -2.17620039e-02,\n",
       "       -8.41135966e-02, -3.53748511e-03,  9.96205945e-03, -1.33253729e-02,\n",
       "        6.19155812e-02,  1.18446576e-02,  4.23191310e-02,  4.21463124e-02,\n",
       "       -1.56376016e-02,  8.57219484e-02, -4.19209172e-02, -1.33851650e-02,\n",
       "        9.63519941e-02,  5.86790747e-01,  3.22423037e-02, -3.65136415e-02,\n",
       "       -8.13318693e-02, -5.05207731e-03, -1.52027871e-02, -1.09396281e-02,\n",
       "       -2.17987864e-02,  6.56958452e-03,  4.88490369e-02, -1.02407005e-02,\n",
       "       -8.78391718e-03, -2.18836635e-02, -2.19546587e-02,  1.35908955e-02,\n",
       "        8.57132650e-02, -1.20328820e-04, -1.24633588e-02,  6.02180315e-02,\n",
       "        8.05171211e-02,  1.13584174e-01,  1.22142642e-01,  1.95969141e-03,\n",
       "        2.85671909e-02,  8.19173236e-02,  2.03412778e-02,  6.98036699e-02,\n",
       "        8.51814801e-02,  1.63787815e-01, -2.32214000e-02, -1.85268467e-15,\n",
       "       -1.61327690e-02,  6.39195293e-02, -2.55636958e-02, -4.24011457e-02,\n",
       "       -2.88175505e-02,  9.07645948e-03, -8.47303749e-02,  3.27760766e-02,\n",
       "        1.27794910e-02,  7.69591085e-02,  4.60723494e-02,  7.68856123e-02,\n",
       "        1.18812555e-01,  1.02505383e-01,  2.78696953e-01,  3.39118663e-01,\n",
       "        4.15694688e-01,  4.45605589e-01,  4.75523918e-01,  5.22715898e-01,\n",
       "        5.84216063e-01,  5.74177701e-01,  1.61295400e-01, -8.16141821e-02,\n",
       "        2.15279875e-02,  7.78548936e-02,  1.10026082e-01,  1.42500947e-01,\n",
       "        1.71685798e-01,  2.03794974e-01, -5.77589182e-03, -8.88096388e-02,\n",
       "       -4.39394039e-03, -1.76381122e-01, -3.63982505e-02, -5.51107619e-02,\n",
       "        8.70810873e-02, -1.88737914e-15,  1.60982339e-15, -7.51119790e-02,\n",
       "        1.24648700e-02,  3.06767835e-02, -9.51157401e-02, -2.73897450e-01,\n",
       "        1.55404346e-01,  1.05651209e+00, -7.38890813e-02,  4.39477398e-02,\n",
       "        1.08857654e-01,  9.68876794e-02,  6.36007892e-02, -3.33066907e-15,\n",
       "       -2.11647826e-02,  1.11420254e-01,  2.65642774e-02,  3.85774250e-02,\n",
       "        6.40046286e-02,  1.53328814e-01,  3.87769165e-02, -8.27979606e-02,\n",
       "       -1.10078577e+00,  1.29384573e-01, -9.79017735e-03, -5.35859308e-02,\n",
       "       -4.80860842e-02,  8.96505092e-15, -3.35291852e-02,  2.41473508e-15,\n",
       "       -8.50502780e-02, -4.24859519e-02,  1.59838562e-02, -5.17514201e-03,\n",
       "       -2.10335461e-02,  6.80260868e-02, -2.41820453e-15,  6.94136839e-02,\n",
       "        8.57800528e-02, -2.99968242e-02, -4.33630666e-02, -6.81113434e-02,\n",
       "       -1.28477682e-04, -2.51064419e-02, -2.16504886e-01, -1.17252383e-02,\n",
       "       -1.31878696e-03,  7.93956212e-03, -6.99347682e-02,  7.36567435e-02,\n",
       "        5.41438376e-02, -2.50600248e-02, -2.21498210e-02,  4.24031306e-02,\n",
       "        1.26756033e-01, -1.35159235e-02,  1.31470351e-02,  4.47093645e-02,\n",
       "        4.24031306e-02,  7.10954112e-02,  2.21936452e-02,  3.96405492e-02,\n",
       "       -1.42956650e-02, -1.23536732e-02, -3.02906303e-03, -8.65331388e-03,\n",
       "        7.20437824e-03, -2.52011965e-02,  4.24031306e-02, -1.06147097e-02,\n",
       "       -1.01539660e-02, -5.74212757e-03,  5.93375527e-02,  1.17461218e-02,\n",
       "       -6.90717147e-02,  1.13253185e-02,  3.24860810e-02,  5.37792367e-02,\n",
       "        7.77920039e-02, -3.09067660e-01,  6.50685434e-03,  1.70989565e-01,\n",
       "       -3.16383003e-02, -1.59790278e-02, -1.54611773e-01, -3.21396981e-02,\n",
       "        2.53902732e-02,  9.95946285e-03,  4.79755221e-02, -3.39171082e-01,\n",
       "       -3.97623317e-03, -7.47177046e-02, -4.59573705e-02, -2.77555756e-16,\n",
       "       -5.13025027e-02, -1.16317706e-01,  1.00163701e-01,  9.21255958e-02,\n",
       "        1.82215728e-02, -4.73296637e-01, -1.94289029e-16,  1.22663371e-01,\n",
       "       -2.54086881e-03,  3.10774262e-02,  1.04284913e-02, -9.84032696e-03,\n",
       "        2.93276402e-02,  1.02567478e-01,  1.01139355e-01,  1.00688115e-01,\n",
       "        1.23942991e-01,  9.65641140e-02,  1.16580801e-02,  1.16580801e-02,\n",
       "       -4.78029467e-03,  1.02132646e-03, -3.57481228e-01, -2.47297256e-01,\n",
       "        1.16580801e-02, -3.39171082e-01, -3.24913604e-01,  2.56665279e-01,\n",
       "        2.72436090e-01,  1.16580801e-02,  3.25485690e-01,  2.71200544e-01,\n",
       "        3.39894128e-03,  4.10229670e-02,  5.75855429e-02,  1.73449653e-01,\n",
       "        5.87057748e-02, -3.58864157e-02,  1.02737841e-02,  5.70181058e-02,\n",
       "        1.65649840e-01,  0.00000000e+00,  2.71413734e-02,  4.57721965e-02])"
      ]
     },
     "execution_count": 85,
     "metadata": {},
     "output_type": "execute_result"
    }
   ],
   "source": [
    "linear_model.coef_"
   ]
  },
  {
   "cell_type": "code",
   "execution_count": 86,
   "id": "0ef4f7b8-d450-4d6d-99ec-c62004f78dfc",
   "metadata": {},
   "outputs": [
    {
     "data": {
      "text/html": [
       "<div>\n",
       "<style scoped>\n",
       "    .dataframe tbody tr th:only-of-type {\n",
       "        vertical-align: middle;\n",
       "    }\n",
       "\n",
       "    .dataframe tbody tr th {\n",
       "        vertical-align: top;\n",
       "    }\n",
       "\n",
       "    .dataframe thead th {\n",
       "        text-align: right;\n",
       "    }\n",
       "</style>\n",
       "<table border=\"1\" class=\"dataframe\">\n",
       "  <thead>\n",
       "    <tr style=\"text-align: right;\">\n",
       "      <th></th>\n",
       "      <th>Features</th>\n",
       "      <th>Weights</th>\n",
       "    </tr>\n",
       "  </thead>\n",
       "  <tbody>\n",
       "    <tr>\n",
       "      <th>0</th>\n",
       "      <td>Lot Frontage</td>\n",
       "      <td>0.000419</td>\n",
       "    </tr>\n",
       "    <tr>\n",
       "      <th>1</th>\n",
       "      <td>Lot Area</td>\n",
       "      <td>0.000004</td>\n",
       "    </tr>\n",
       "    <tr>\n",
       "      <th>2</th>\n",
       "      <td>Mas Vnr Area</td>\n",
       "      <td>0.000028</td>\n",
       "    </tr>\n",
       "    <tr>\n",
       "      <th>3</th>\n",
       "      <td>Bsmt Unf SF</td>\n",
       "      <td>-0.000064</td>\n",
       "    </tr>\n",
       "    <tr>\n",
       "      <th>4</th>\n",
       "      <td>Low Qual Fin SF</td>\n",
       "      <td>0.000042</td>\n",
       "    </tr>\n",
       "  </tbody>\n",
       "</table>\n",
       "</div>"
      ],
      "text/plain": [
       "          Features   Weights\n",
       "0     Lot Frontage  0.000419\n",
       "1         Lot Area  0.000004\n",
       "2     Mas Vnr Area  0.000028\n",
       "3      Bsmt Unf SF -0.000064\n",
       "4  Low Qual Fin SF  0.000042"
      ]
     },
     "execution_count": 86,
     "metadata": {},
     "output_type": "execute_result"
    }
   ],
   "source": [
    "coef_summary = pd.DataFrame(X_train.columns.values, columns=['Features'])\n",
    "coef_summary['Weights'] = linear_model.coef_\n",
    "coef_summary.head()"
   ]
  },
  {
   "cell_type": "code",
   "execution_count": 87,
   "id": "d3deeff8-8a02-43bf-82af-7c3c81be4a40",
   "metadata": {},
   "outputs": [
    {
     "data": {
      "text/html": [
       "<div>\n",
       "<style scoped>\n",
       "    .dataframe tbody tr th:only-of-type {\n",
       "        vertical-align: middle;\n",
       "    }\n",
       "\n",
       "    .dataframe tbody tr th {\n",
       "        vertical-align: top;\n",
       "    }\n",
       "\n",
       "    .dataframe thead th {\n",
       "        text-align: right;\n",
       "    }\n",
       "</style>\n",
       "<table border=\"1\" class=\"dataframe\">\n",
       "  <thead>\n",
       "    <tr style=\"text-align: right;\">\n",
       "      <th></th>\n",
       "      <th>Features</th>\n",
       "      <th>Weights</th>\n",
       "    </tr>\n",
       "  </thead>\n",
       "  <tbody>\n",
       "    <tr>\n",
       "      <th>137</th>\n",
       "      <td>121</td>\n",
       "      <td>1.056512</td>\n",
       "    </tr>\n",
       "    <tr>\n",
       "      <th>32</th>\n",
       "      <td>16</td>\n",
       "      <td>0.827395</td>\n",
       "    </tr>\n",
       "    <tr>\n",
       "      <th>34</th>\n",
       "      <td>18</td>\n",
       "      <td>0.821999</td>\n",
       "    </tr>\n",
       "    <tr>\n",
       "      <th>35</th>\n",
       "      <td>19</td>\n",
       "      <td>0.788890</td>\n",
       "    </tr>\n",
       "    <tr>\n",
       "      <th>36</th>\n",
       "      <td>20</td>\n",
       "      <td>0.736693</td>\n",
       "    </tr>\n",
       "  </tbody>\n",
       "</table>\n",
       "</div>"
      ],
      "text/plain": [
       "    Features   Weights\n",
       "137      121  1.056512\n",
       "32        16  0.827395\n",
       "34        18  0.821999\n",
       "35        19  0.788890\n",
       "36        20  0.736693"
      ]
     },
     "execution_count": 87,
     "metadata": {},
     "output_type": "execute_result"
    }
   ],
   "source": [
    "coef_summary.sort_values(by='Weights', ascending = False).head()"
   ]
  },
  {
   "cell_type": "code",
   "execution_count": 88,
   "id": "81fb7af3-1d65-466e-bed4-fe75b4a31e8e",
   "metadata": {
    "tags": []
   },
   "outputs": [
    {
     "data": {
      "text/plain": [
       "12.027060107350682"
      ]
     },
     "execution_count": 88,
     "metadata": {},
     "output_type": "execute_result"
    }
   ],
   "source": [
    "linear_model.intercept_"
   ]
  },
  {
   "cell_type": "markdown",
   "id": "8bbe1d3b-8c78-4d4b-8334-2bddc4c29b8b",
   "metadata": {},
   "source": [
    "### 4.5 Export y_pred for kaggle submission"
   ]
  },
  {
   "cell_type": "code",
   "execution_count": 89,
   "id": "786aa1d0-9227-47f5-98ca-ec2d8debba27",
   "metadata": {},
   "outputs": [
    {
     "data": {
      "text/html": [
       "<div>\n",
       "<style scoped>\n",
       "    .dataframe tbody tr th:only-of-type {\n",
       "        vertical-align: middle;\n",
       "    }\n",
       "\n",
       "    .dataframe tbody tr th {\n",
       "        vertical-align: top;\n",
       "    }\n",
       "\n",
       "    .dataframe thead th {\n",
       "        text-align: right;\n",
       "    }\n",
       "</style>\n",
       "<table border=\"1\" class=\"dataframe\">\n",
       "  <thead>\n",
       "    <tr style=\"text-align: right;\">\n",
       "      <th></th>\n",
       "      <th>Id</th>\n",
       "      <th>SalePrice</th>\n",
       "    </tr>\n",
       "  </thead>\n",
       "  <tbody>\n",
       "    <tr>\n",
       "      <th>0</th>\n",
       "      <td>2658</td>\n",
       "      <td>155439.229574</td>\n",
       "    </tr>\n",
       "    <tr>\n",
       "      <th>1</th>\n",
       "      <td>2718</td>\n",
       "      <td>153829.791858</td>\n",
       "    </tr>\n",
       "    <tr>\n",
       "      <th>2</th>\n",
       "      <td>2414</td>\n",
       "      <td>215211.022105</td>\n",
       "    </tr>\n",
       "    <tr>\n",
       "      <th>3</th>\n",
       "      <td>1989</td>\n",
       "      <td>102285.067063</td>\n",
       "    </tr>\n",
       "    <tr>\n",
       "      <th>4</th>\n",
       "      <td>625</td>\n",
       "      <td>164967.452127</td>\n",
       "    </tr>\n",
       "    <tr>\n",
       "      <th>...</th>\n",
       "      <td>...</td>\n",
       "      <td>...</td>\n",
       "    </tr>\n",
       "    <tr>\n",
       "      <th>873</th>\n",
       "      <td>1662</td>\n",
       "      <td>196941.845028</td>\n",
       "    </tr>\n",
       "    <tr>\n",
       "      <th>874</th>\n",
       "      <td>1234</td>\n",
       "      <td>215218.503415</td>\n",
       "    </tr>\n",
       "    <tr>\n",
       "      <th>875</th>\n",
       "      <td>1373</td>\n",
       "      <td>131576.966437</td>\n",
       "    </tr>\n",
       "    <tr>\n",
       "      <th>876</th>\n",
       "      <td>1672</td>\n",
       "      <td>116128.660790</td>\n",
       "    </tr>\n",
       "    <tr>\n",
       "      <th>877</th>\n",
       "      <td>1939</td>\n",
       "      <td>125618.733612</td>\n",
       "    </tr>\n",
       "  </tbody>\n",
       "</table>\n",
       "<p>878 rows × 2 columns</p>\n",
       "</div>"
      ],
      "text/plain": [
       "       Id      SalePrice\n",
       "0    2658  155439.229574\n",
       "1    2718  153829.791858\n",
       "2    2414  215211.022105\n",
       "3    1989  102285.067063\n",
       "4     625  164967.452127\n",
       "..    ...            ...\n",
       "873  1662  196941.845028\n",
       "874  1234  215218.503415\n",
       "875  1373  131576.966437\n",
       "876  1672  116128.660790\n",
       "877  1939  125618.733612\n",
       "\n",
       "[878 rows x 2 columns]"
      ]
     },
     "execution_count": 89,
     "metadata": {},
     "output_type": "execute_result"
    }
   ],
   "source": [
    "linear_sub = pd.DataFrame({'Id':test['Id'],'SalePrice':y_test_kaggle_linear})\n",
    "linear_sub"
   ]
  },
  {
   "cell_type": "code",
   "execution_count": 90,
   "id": "5a7f1b5f-6341-450a-acd9-66dfd5885501",
   "metadata": {},
   "outputs": [],
   "source": [
    "# export to csv file\n",
    "linear_sub.to_csv(r'../datasets/linear_sub.csv', index = False)"
   ]
  },
  {
   "cell_type": "markdown",
   "id": "7351a8dd-4420-485f-a265-772e35ba12bc",
   "metadata": {},
   "source": [
    "### 5.1 Model Comparision"
   ]
  },
  {
   "cell_type": "code",
   "execution_count": 91,
   "id": "064ba47f-ba2d-42fb-9176-a54fa1165628",
   "metadata": {},
   "outputs": [],
   "source": [
    "comparison = {'R2 score':[ridge_r2_score, lasso_r2_score, linear_r2_score],\n",
    "              'test_score':[ridge_train_score ,lasso_train_score , linear_train_score],\n",
    "              'train_score':[ridge_test_score , lasso_test_score , linear_test_score ],\n",
    "              'RMSE':[ridge_rmse, lasso_rmse, linear_rmse],\n",
    "             }"
   ]
  },
  {
   "cell_type": "code",
   "execution_count": 92,
   "id": "841138ad-afc5-4a8f-a237-dc9c64b24168",
   "metadata": {},
   "outputs": [
    {
     "data": {
      "text/html": [
       "<div>\n",
       "<style scoped>\n",
       "    .dataframe tbody tr th:only-of-type {\n",
       "        vertical-align: middle;\n",
       "    }\n",
       "\n",
       "    .dataframe tbody tr th {\n",
       "        vertical-align: top;\n",
       "    }\n",
       "\n",
       "    .dataframe thead th {\n",
       "        text-align: right;\n",
       "    }\n",
       "</style>\n",
       "<table border=\"1\" class=\"dataframe\">\n",
       "  <thead>\n",
       "    <tr style=\"text-align: right;\">\n",
       "      <th></th>\n",
       "      <th>R2 score</th>\n",
       "      <th>test_score</th>\n",
       "      <th>train_score</th>\n",
       "      <th>RMSE</th>\n",
       "    </tr>\n",
       "  </thead>\n",
       "  <tbody>\n",
       "    <tr>\n",
       "      <th>Ridge_model</th>\n",
       "      <td>0.889515</td>\n",
       "      <td>0.945664</td>\n",
       "      <td>0.889515</td>\n",
       "      <td>21367.014119</td>\n",
       "    </tr>\n",
       "    <tr>\n",
       "      <th>Lasso_model</th>\n",
       "      <td>0.861820</td>\n",
       "      <td>0.919158</td>\n",
       "      <td>0.861820</td>\n",
       "      <td>21784.713830</td>\n",
       "    </tr>\n",
       "    <tr>\n",
       "      <th>OLS_model</th>\n",
       "      <td>0.873220</td>\n",
       "      <td>0.951510</td>\n",
       "      <td>0.873220</td>\n",
       "      <td>21530.013554</td>\n",
       "    </tr>\n",
       "  </tbody>\n",
       "</table>\n",
       "</div>"
      ],
      "text/plain": [
       "             R2 score  test_score  train_score          RMSE\n",
       "Ridge_model  0.889515    0.945664     0.889515  21367.014119\n",
       "Lasso_model  0.861820    0.919158     0.861820  21784.713830\n",
       "OLS_model    0.873220    0.951510     0.873220  21530.013554"
      ]
     },
     "execution_count": 92,
     "metadata": {},
     "output_type": "execute_result"
    }
   ],
   "source": [
    "model_comparison = pd.DataFrame(comparison, index =['Ridge_model',\n",
    "                                'Lasso_model',\n",
    "                                'OLS_model'])\n",
    "\n",
    "model_comparison"
   ]
  },
  {
   "cell_type": "markdown",
   "id": "9c0924b4-2dd2-4cfa-994c-456bcb13b3db",
   "metadata": {},
   "source": [
    "Based on the table above, Ridge model score the highest among three models tested, in terms of R2 score, test score and train score. Ridge model also has lower root mean square error compared to the other two model. Ridge model is the most suitable model to predict the housing price for Ames, Iowa. "
   ]
  }
 ],
 "metadata": {
  "kernelspec": {
   "display_name": "Python 3",
   "language": "python",
   "name": "python3"
  },
  "language_info": {
   "codemirror_mode": {
    "name": "ipython",
    "version": 3
   },
   "file_extension": ".py",
   "mimetype": "text/x-python",
   "name": "python",
   "nbconvert_exporter": "python",
   "pygments_lexer": "ipython3",
   "version": "3.8.8"
  }
 },
 "nbformat": 4,
 "nbformat_minor": 5
}
